{
 "cells": [
  {
   "cell_type": "code",
   "execution_count": 91,
   "metadata": {},
   "outputs": [],
   "source": [
    "import pandas as pd\n",
    "import numpy as np\n",
    "import sigfig\n",
    "import matplotlib as mpl\n",
    "import matplotlib.pyplot as plt\n",
    "import math\n",
    "plt.rcParams.update(mpl.rcParamsDefault)\n",
    "\n",
    "def rd(valor, error):\n",
    "    return eval('(\"' + sigfig.round(valor, error, cutoff=19, sep ='\",\"') + '\")')\n",
    "\n",
    "\n",
    "def tex(panda, columnas):\n",
    "    l = len(panda)\n",
    "    a = len(columnas)\n",
    "    print('\\\\begin{array}{|' + 'l|'*a + '} \\\\hline')\n",
    "    for fila in range(l):\n",
    "        s = ''\n",
    "        for col in columnas:\n",
    "            s+= str(panda[col][fila]) + ' & '\n",
    "        print(s[0: -2] + ' \\\\\\\\ \\\\hline')\n",
    "    print('\\\\end{array}')\n",
    "\n",
    "def regresion(x, y):\n",
    "    n = len(x)\n",
    "    xc = x.sum()/n\n",
    "    yc = y.sum()/n\n",
    "    sx = math.sqrt(((x**2).sum()/n)-xc**2)\n",
    "    sy = math.sqrt(((y**2).sum()/n)-yc**2)\n",
    "    sxy = ((x*y).sum()/n)-xc*yc\n",
    "    r = sxy/(sx*sy)\n",
    "    m = sxy/(sx**2)\n",
    "    b = yc - m*xc\n",
    "    em = (sy/sx)*math.sqrt((1-r**2)/(n-2))\n",
    "    eb = em*math.sqrt(sx**2 + xc**2)\n",
    "    return(m, b, em, eb, r)"
   ]
  },
  {
   "cell_type": "markdown",
   "metadata": {},
   "source": [
    "Cargar datos"
   ]
  },
  {
   "cell_type": "code",
   "execution_count": 92,
   "metadata": {},
   "outputs": [],
   "source": [
    "datos = pd.read_csv('D:/Latex/UNED/Primer curso/Tecnicas experimentales/hooke/Datos/hooke1.csv', names=['m','x'])"
   ]
  },
  {
   "cell_type": "code",
   "execution_count": 93,
   "metadata": {},
   "outputs": [],
   "source": [
    "datos['ex'] = datos['x']\n",
    "datos['em'] = datos['x']\n",
    "for i in range(len(datos)):\n",
    "    datos['ex'][i] = 0.001\n",
    "    datos['em'][i] = 0.002"
   ]
  },
  {
   "cell_type": "code",
   "execution_count": 94,
   "metadata": {},
   "outputs": [],
   "source": [
    "g = -9.847\n",
    "\n",
    "datos['F'] = g*datos['m']\n",
    "datos['eF'] = g*datos['em']"
   ]
  },
  {
   "cell_type": "code",
   "execution_count": 95,
   "metadata": {},
   "outputs": [
    {
     "name": "stderr",
     "output_type": "stream",
     "text": [
      "C:\\Users\\User\\AppData\\Local\\Temp/ipykernel_5884/704906533.py:4: SettingWithCopyWarning: \n",
      "A value is trying to be set on a copy of a slice from a DataFrame\n",
      "\n",
      "See the caveats in the documentation: https://pandas.pydata.org/pandas-docs/stable/user_guide/indexing.html#returning-a-view-versus-a-copy\n",
      "  datos['Fstr'][i], datos['eFstr'][i] = a, b\n",
      "C:\\Users\\User\\AppData\\Local\\Temp/ipykernel_5884/704906533.py:5: SettingWithCopyWarning: \n",
      "A value is trying to be set on a copy of a slice from a DataFrame\n",
      "\n",
      "See the caveats in the documentation: https://pandas.pydata.org/pandas-docs/stable/user_guide/indexing.html#returning-a-view-versus-a-copy\n",
      "  datos['F'][i], datos['eF'][i] = a, b\n"
     ]
    }
   ],
   "source": [
    "datos[['Fstr', 'eFstr']] = datos[['F', 'eF']].astype(str)\n",
    "for i in range(len(datos)):\n",
    "    a, b = rd(datos['F'][i], datos['eF'][i])\n",
    "    datos['Fstr'][i], datos['eFstr'][i] = a, b\n",
    "    datos['F'][i], datos['eF'][i] = a, b"
   ]
  },
  {
   "cell_type": "code",
   "execution_count": 96,
   "metadata": {},
   "outputs": [
    {
     "name": "stdout",
     "output_type": "stream",
     "text": [
      "\\begin{array}{|l|l|l|l|l|l|} \\hline\n",
      "0.007 & 0.001 & 0.01 & 0.002 & -0.10 & 0.02  \\\\ \\hline\n",
      "0.013 & 0.001 & 0.02 & 0.002 & -0.20 & 0.02  \\\\ \\hline\n",
      "0.019 & 0.001 & 0.03 & 0.002 & -0.30 & 0.02  \\\\ \\hline\n",
      "0.026 & 0.001 & 0.04 & 0.002 & -0.39 & 0.02  \\\\ \\hline\n",
      "0.031 & 0.001 & 0.05 & 0.002 & -0.49 & 0.02  \\\\ \\hline\n",
      "0.037 & 0.001 & 0.06 & 0.002 & -0.59 & 0.02  \\\\ \\hline\n",
      "0.044 & 0.001 & 0.07 & 0.002 & -0.69 & 0.02  \\\\ \\hline\n",
      "0.05 & 0.001 & 0.08 & 0.002 & -0.79 & 0.02  \\\\ \\hline\n",
      "0.056 & 0.001 & 0.09 & 0.002 & -0.89 & 0.02  \\\\ \\hline\n",
      "0.064 & 0.001 & 0.1 & 0.002 & -0.98 & 0.02  \\\\ \\hline\n",
      "0.071 & 0.001 & 0.11 & 0.002 & -1.08 & 0.02  \\\\ \\hline\n",
      "0.077 & 0.001 & 0.12 & 0.002 & -1.18 & 0.02  \\\\ \\hline\n",
      "0.083 & 0.001 & 0.13 & 0.002 & -1.28 & 0.02  \\\\ \\hline\n",
      "0.09 & 0.001 & 0.14 & 0.002 & -1.38 & 0.02  \\\\ \\hline\n",
      "0.093 & 0.001 & 0.15 & 0.002 & -1.48 & 0.02  \\\\ \\hline\n",
      "0.099 & 0.001 & 0.16 & 0.002 & -1.58 & 0.02  \\\\ \\hline\n",
      "0.106 & 0.001 & 0.17 & 0.002 & -1.67 & 0.02  \\\\ \\hline\n",
      "0.111 & 0.001 & 0.18 & 0.002 & -1.77 & 0.02  \\\\ \\hline\n",
      "0.118 & 0.001 & 0.19 & 0.002 & -1.87 & 0.02  \\\\ \\hline\n",
      "\\end{array}\n"
     ]
    }
   ],
   "source": [
    "tex(datos, ['x', 'ex', 'm', 'em','Fstr', 'eFstr'])"
   ]
  },
  {
   "cell_type": "code",
   "execution_count": 97,
   "metadata": {},
   "outputs": [
    {
     "data": {
      "image/png": "[encoded data removed]",
      "text/plain": [
       "<Figure size 640x480 with 1 Axes>"
      ]
     },
     "metadata": {},
     "output_type": "display_data"
    }
   ],
   "source": [
    "m, n, em, en, r = regresion(datos['x'], datos['F'])\n",
    "plt.rcParams.update({'font.size': 9})\n",
    "plt.rcParams['axes.linewidth'] = 0.45\n",
    "plt.rcParams['xtick.major.width'] = 0.45\n",
    "plt.rcParams['ytick.major.width'] = 0.45\n",
    "plt.xlabel('$x$ (m)')\n",
    "plt.ylabel('$F$ (N)')\n",
    "plt.plot([0.007, 0.118], [m*0.007+n, m*0.118+n], color='black', linewidth=0.45)\n",
    "plt.errorbar(datos['x'], datos['F'], xerr=datos['ex'], yerr=datos['eF'], ls='none', capsize = 1.5, elinewidth=0.45, ecolor='black', capthick=0.45)\n",
    "plt.scatter(datos['x'], datos['F'], s=0.6, c='black', marker='8')\n",
    "plt.savefig('D:/Latex/UNED/Primer curso/Tecnicas experimentales/hooke/figures/regresión1.png', dpi=1000, bbox_inches='tight')\n",
    "plt.show()"
   ]
  },
  {
   "cell_type": "code",
   "execution_count": 98,
   "metadata": {},
   "outputs": [
    {
     "name": "stdout",
     "output_type": "stream",
     "text": [
      "m: ('-15.83', '0.13')\n",
      "n: ('0.011', '0.009')\n"
     ]
    }
   ],
   "source": [
    "print('m:', rd(m, em))\n",
    "m, em = rd(m, em)\n",
    "m, em = float(m), float(em)\n",
    "print('n:', rd(n, en))\n",
    "n, en = rd(n, en)\n",
    "n, en = float(n), float(en)"
   ]
  },
  {
   "cell_type": "code",
   "execution_count": 99,
   "metadata": {},
   "outputs": [],
   "source": [
    "datoss = pd.read_csv('D:/Latex/UNED/Primer curso/Tecnicas experimentales/hooke/Datos/hooke2.csv', names=['m','t1','t2','t3','t4'])"
   ]
  },
  {
   "cell_type": "code",
   "execution_count": 100,
   "metadata": {},
   "outputs": [
    {
     "name": "stdout",
     "output_type": "stream",
     "text": [
      "\\begin{array}{|l|l|l|l|l|} \\hline\n",
      "0.03 & 3.69 & 3.69 & 3.9 & 3.59  \\\\ \\hline\n",
      "0.04 & 3.94 & 3.9 & 3.91 & 3.93  \\\\ \\hline\n",
      "0.05 & 4.28 & 4.25 & 4.33 & 4.25  \\\\ \\hline\n",
      "0.06 & 4.47 & 4.41 & 4.5 & 4.56  \\\\ \\hline\n",
      "0.07 & 4.75 & 4.81 & 4.65 & 4.88  \\\\ \\hline\n",
      "0.08 & 4.94 & 4.97 & 4.88 & 4.94  \\\\ \\hline\n",
      "0.09 & 5.22 & 5.25 & 5.2 & 5.0  \\\\ \\hline\n",
      "0.1 & 5.5 & 5.59 & 5.68 & 5.5  \\\\ \\hline\n",
      "0.12 & 5.88 & 5.91 & 5.93 & 5.81  \\\\ \\hline\n",
      "0.15 & 6.5 & 6.65 & 6.59 & 6.5  \\\\ \\hline\n",
      "0.17 & 6.97 & 6.94 & 6.94 & 6.97  \\\\ \\hline\n",
      "0.2 & 7.32 & 7.38 & 7.44 & 7.44  \\\\ \\hline\n",
      "\\end{array}\n"
     ]
    }
   ],
   "source": [
    "tex(datoss,['m','t1','t2','t3','t4'])"
   ]
  },
  {
   "cell_type": "code",
   "execution_count": 101,
   "metadata": {},
   "outputs": [],
   "source": [
    "datoss['et*'] = datoss['t1']\n",
    "datoss['t*'] = datoss['t1']\n",
    "for fila in range(12):\n",
    "    l =[datoss['t1'][fila], datoss['t2'][fila], datoss['t3'][fila], datoss['t4'][fila]]\n",
    "    datoss['et*'][fila] = (max(l)-min(l))/40\n",
    "    datoss['t*'][fila] = (datoss['t1'][fila]+ datoss['t2'][fila]+ datoss['t3'][fila]+ datoss['t4'][fila])/40"
   ]
  },
  {
   "cell_type": "code",
   "execution_count": 102,
   "metadata": {},
   "outputs": [],
   "source": [
    "datoss['t2'] = datoss['t*']*datoss['t*']\n",
    "datoss['et2'] = 2*datoss['et*']*datoss['t*']"
   ]
  },
  {
   "cell_type": "code",
   "execution_count": 103,
   "metadata": {},
   "outputs": [
    {
     "name": "stderr",
     "output_type": "stream",
     "text": [
      "C:\\Users\\User\\AppData\\Local\\Temp/ipykernel_5884/1125511335.py:4: SettingWithCopyWarning: \n",
      "A value is trying to be set on a copy of a slice from a DataFrame\n",
      "\n",
      "See the caveats in the documentation: https://pandas.pydata.org/pandas-docs/stable/user_guide/indexing.html#returning-a-view-versus-a-copy\n",
      "  datoss['t*str'][i], datoss['et*str'][i] = a, b\n",
      "C:\\Users\\User\\AppData\\Local\\Temp/ipykernel_5884/1125511335.py:5: SettingWithCopyWarning: \n",
      "A value is trying to be set on a copy of a slice from a DataFrame\n",
      "\n",
      "See the caveats in the documentation: https://pandas.pydata.org/pandas-docs/stable/user_guide/indexing.html#returning-a-view-versus-a-copy\n",
      "  datoss['t*'][i], datoss['et*'][i] = a, b\n"
     ]
    }
   ],
   "source": [
    "datoss[['t*str', 'et*str']] = datoss[['t*', 'et*']].astype(str)\n",
    "for i in range(12):\n",
    "    a, b = rd(datoss['t*'][i], datoss['et*'][i])\n",
    "    datoss['t*str'][i], datoss['et*str'][i] = a, b\n",
    "    datoss['t*'][i], datoss['et*'][i] = a, b"
   ]
  },
  {
   "cell_type": "code",
   "execution_count": 104,
   "metadata": {},
   "outputs": [
    {
     "name": "stderr",
     "output_type": "stream",
     "text": [
      "C:\\Users\\User\\AppData\\Local\\Temp/ipykernel_5884/949159034.py:4: SettingWithCopyWarning: \n",
      "A value is trying to be set on a copy of a slice from a DataFrame\n",
      "\n",
      "See the caveats in the documentation: https://pandas.pydata.org/pandas-docs/stable/user_guide/indexing.html#returning-a-view-versus-a-copy\n",
      "  datoss['t2str'][i], datoss['et2str'][i] = a, b\n",
      "C:\\Users\\User\\AppData\\Local\\Temp/ipykernel_5884/949159034.py:5: SettingWithCopyWarning: \n",
      "A value is trying to be set on a copy of a slice from a DataFrame\n",
      "\n",
      "See the caveats in the documentation: https://pandas.pydata.org/pandas-docs/stable/user_guide/indexing.html#returning-a-view-versus-a-copy\n",
      "  datoss['t2'][i], datoss['et2'][i] = a, b\n"
     ]
    }
   ],
   "source": [
    "datoss[['t2str', 'et2str']] = datoss[['t2', 'et2']].astype(str)\n",
    "for i in range(12):\n",
    "    a, b = rd(datoss['t2'][i], datoss['et2'][i])\n",
    "    datoss['t2str'][i], datoss['et2str'][i] = a, b\n",
    "    datoss['t2'][i], datoss['et2'][i] = a, b"
   ]
  },
  {
   "cell_type": "code",
   "execution_count": 81,
   "metadata": {},
   "outputs": [
    {
     "name": "stdout",
     "output_type": "stream",
     "text": [
      "\\begin{array}{|l|l|l|l|l|} \\hline\n",
      "0.03 & 0.372 & 0.008 & 0.138 & 0.006  \\\\ \\hline\n",
      "0.04 & 0.3920 & 0.0010 & 0.1537 & 0.0008  \\\\ \\hline\n",
      "0.05 & 0.428 & 0.002 & 0.183 & 0.0017  \\\\ \\hline\n",
      "0.06 & 0.448 & 0.004 & 0.201 & 0.003  \\\\ \\hline\n",
      "0.07 & 0.477 & 0.006 & 0.228 & 0.005  \\\\ \\hline\n",
      "0.08 & 0.493 & 0.002 & 0.243 & 0.002  \\\\ \\hline\n",
      "0.09 & 0.517 & 0.006 & 0.267 & 0.006  \\\\ \\hline\n",
      "0.1 & 0.557 & 0.004 & 0.31 & 0.005  \\\\ \\hline\n",
      "0.12 & 0.588 & 0.003 & 0.346 & 0.004  \\\\ \\hline\n",
      "0.15 & 0.656 & 0.004 & 0.43 & 0.005  \\\\ \\hline\n",
      "0.17 & 0.6955 & 0.0007 & 0.4837 & 0.001  \\\\ \\hline\n",
      "0.2 & 0.740 & 0.003 & 0.547 & 0.004  \\\\ \\hline\n",
      "\\end{array}\n"
     ]
    }
   ],
   "source": [
    "tex(datoss, ['m','t*str','et*str','t2','et2'])"
   ]
  },
  {
   "cell_type": "code",
   "execution_count": 82,
   "metadata": {},
   "outputs": [],
   "source": [
    "datoss['em'] = 0.001"
   ]
  },
  {
   "cell_type": "code",
   "execution_count": 83,
   "metadata": {},
   "outputs": [
    {
     "data": {
      "image/png": "[encoded data removed]",
      "text/plain": [
       "<Figure size 640x480 with 1 Axes>"
      ]
     },
     "metadata": {},
     "output_type": "display_data"
    }
   ],
   "source": [
    "m, n, em, en, r = regresion(datoss['m'], datoss['t2'])\n",
    "plt.rcParams.update({'font.size': 9})\n",
    "plt.rcParams['axes.linewidth'] = 0.45\n",
    "plt.rcParams['xtick.major.width'] = 0.45\n",
    "plt.rcParams['ytick.major.width'] = 0.45\n",
    "plt.ylabel('$T^2$ (s$^2$)')\n",
    "plt.xlabel('$M$ (kg)')\n",
    "plt.plot([0.03, 0.2], [m*0.03+n, m*0.2+n], color='black', linewidth=0.45)\n",
    "plt.errorbar(datoss['m'], datoss['t2'], xerr=datoss['em'], yerr=datoss['et2'], ls='none', capsize = 1.5, elinewidth=0.45, ecolor='black', capthick=0.45)\n",
    "plt.scatter(datoss['m'], datoss['t2'], s=0.6, c='black', marker='8')\n",
    "plt.savefig('D:/Latex/UNED/Primer curso/Tecnicas experimentales/hooke/figures/regresión2.png', dpi=1000, bbox_inches='tight')\n",
    "plt.show()"
   ]
  },
  {
   "cell_type": "code",
   "execution_count": 84,
   "metadata": {},
   "outputs": [
    {
     "name": "stdout",
     "output_type": "stream",
     "text": [
      "m: ('2.47', '0.04')\n",
      "n: ('0.055', '0.004')\n"
     ]
    }
   ],
   "source": [
    "print('m:', rd(m, em))\n",
    "m, em = rd(m, em)\n",
    "m, em = float(m), float(em)\n",
    "print('n:', rd(n, en))\n",
    "n, en = rd(n, en)\n",
    "n, en = float(n), float(en)"
   ]
  },
  {
   "cell_type": "code",
   "execution_count": 85,
   "metadata": {},
   "outputs": [],
   "source": [
    "k = 4*math.pi**2/m\n",
    "ek = em*4*math.pi**2/m**2"
   ]
  },
  {
   "cell_type": "code",
   "execution_count": 86,
   "metadata": {},
   "outputs": [
    {
     "name": "stdout",
     "output_type": "stream",
     "text": [
      "k: ('16.0', '0.3')\n"
     ]
    }
   ],
   "source": [
    "print('k:', rd(k, ek))\n",
    "k, ek = rd(k, ek)\n",
    "k, ek = float(n), float(en)"
   ]
  },
  {
   "cell_type": "code",
   "execution_count": 87,
   "metadata": {},
   "outputs": [],
   "source": [
    "am = n/m\n",
    "eam = math.sqrt((n**2)*(en**2)+em**2)/m"
   ]
  },
  {
   "cell_type": "code",
   "execution_count": 88,
   "metadata": {},
   "outputs": [
    {
     "name": "stdout",
     "output_type": "stream",
     "text": [
      "am:  ('0.022', '0.016')\n"
     ]
    }
   ],
   "source": [
    "print('am: ', rd(am, eam))\n",
    "am , eam = rd(am, eam)\n",
    "am, eam = float(am), float(eam)"
   ]
  },
  {
   "cell_type": "code",
   "execution_count": 89,
   "metadata": {},
   "outputs": [
    {
     "name": "stdout",
     "output_type": "stream",
     "text": [
      "m:  ('0.07', '0.05')\n"
     ]
    }
   ],
   "source": [
    "mue = 3*am\n",
    "emue = 3*eam\n",
    "print('m: ', rd(mue, emue))\n",
    "mue, emue = rd(mue, emue)\n",
    "mue, emue = float(mue), float(emue)"
   ]
  },
  {
   "cell_type": "code",
   "execution_count": 90,
   "metadata": {},
   "outputs": [
    {
     "name": "stdout",
     "output_type": "stream",
     "text": [
      "('15.86', '0.12')\n"
     ]
    }
   ],
   "source": [
    "den = 1/0.13**2 + 1/0.3**2\n",
    "kk = (15.83/0.13**2 + 16/0.3**2)/den\n",
    "ekk = 1/math.sqrt(den)\n",
    "print(rd(kk, ekk))"
   ]
  }
 ],
 "metadata": {
  "interpreter": {
   "hash": "2647ea34e536f865ab67ff9ddee7fd78773d956cec0cab53c79b32cd10da5d83"
  },
  "kernelspec": {
   "display_name": "Python 3.9.7 64-bit",
   "language": "python",
   "name": "python3"
  },
  "language_info": {
   "codemirror_mode": {
    "name": "ipython",
    "version": 3
   },
   "file_extension": ".py",
   "mimetype": "text/x-python",
   "name": "python",
   "nbconvert_exporter": "python",
   "pygments_lexer": "ipython3",
   "version": "3.9.7"
  },
  "orig_nbformat": 4
 },
 "nbformat": 4,
 "nbformat_minor": 2
}
