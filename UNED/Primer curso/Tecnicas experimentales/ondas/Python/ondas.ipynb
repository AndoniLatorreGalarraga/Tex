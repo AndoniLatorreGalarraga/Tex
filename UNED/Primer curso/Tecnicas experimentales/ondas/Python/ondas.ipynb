{
 "cells": [
  {
   "cell_type": "markdown",
   "metadata": {},
   "source": [
    "| Peso (g) | $T$(N) | $n$ | $v$(teo) (m/s) | $f$(teo) (Hz) | $\\lambda$(teo) (m) | $f$(exp) (Hz) | $\\lambda$(exp) (m) | $v$(exp) (m/s) | $\\bar{v}$(exp) (m/s) | $v-\\bar{v}$ | $\\epsilon_v$ | $\\bar{v}^2$(exp) |\n",
    "|----------|--------|-----|----------------|---------------|--------------------|---------------|--------------------|----------------|----------------------|-------------|--------------|------------------|\n",
    "|     61.2 | 0.5997 |   1 |        19.1514 |       8.54970 |             2.2400 |        8.6080 |             2.2400 |        19.2819 |              19.2188 |      0.0631 |       0.0381 |         369.3633 |\n",
    "|          |        |   2 |                |       17.0994 |             1.1200 |       17.2210 |             1.1200 |        19.2875 |                      |      0.0687 |              |                  | \n",
    "|          |        |   3 |                |       25.6492 |             0.7467 |       25.6450 |             0.7467 |        19.1483 |                      |     -0.0705 |              |                  |\n",
    "|          |        |   4 |                |       34.1989 |             0.5600 |       34.2100 |             0.5600 |        19.1576 |                      |     -0.0612 |              |                  |\n",
    "|    111.2 | 1.0898 |   1 |        25.8153 |       11.5247 |             2.2400 |       11.5220 |             2.2400 |        25.8093 |              26.0128 |     -0.2035 |       0.1003 |         676.6679 |\n",
    "|          |        |   2 |                |       23.0494 |             1.1200 |       23.4640 |             1.1200 |        26.2797 |                      |      0.2668 |              |                  |\n",
    "|          |        |   3 |                |       34.5741 |             0.7467 |       34.7220 |             0.7467 |        25.9258 |                      |     -0.0871 |              |                  |\n",
    "|          |        |   4 |                |       46.0988 |             0.5600 |       46.4940 |             0.5600 |        26.0367 |                      |      0.0238 |              |                  |\n",
    "|    161.2 | 1.5798 |   1 |        31.0819 |       13.8758 |             2.2400 |       13.8220 |             2.2400 |        30.9613 |              31.0172 |     -0.0559 |       0.1532 |         962.0659 |\n",
    "|          |        |   2 |                |       27.7517 |             1.1200 |       27.3590 |             1.1200 |        30.6421 |                      |     -0.3751 |              |                  |\n",
    "|          |        |   3 |                |       41.6275 |             0.7467 |       41.6290 |             0.7467 |        31.0830 |                      |      0.0658 |              |                  |\n",
    "|          |        |   4 |                |       55.5034 |             0.5600 |       56.0400 |             0.5600 |        31.3824 |                      |      0.3652 |              |                  |\n",
    "|    211.2 | 2.0698 |   1 |        35.5772 |       15.8827 |             2.2400 |       17.9040 |             2.2400 |        40.1050 |              37.0108 |      3.0942 |       1.0347 |         1369.7973|\n",
    "|          |        |   2 |                |       31.7654 |             1.1200 |       31.9770 |             1.1200 |        35.8142 |                      |     -1.1965 |              |                  |\n",
    "|          |        |   3 |                |       47.6480 |             0.7467 |       48.1070 |             0.7467 |        35.9199 |                      |     -1.0910 |              |                  |\n",
    "|          |        |   4 |                |       63.5310 |             0.5600 |       64.6500 |             0.5600 |        36.2040 |                      |     -0.8067 |              |                  |\n",
    "|    261.2 | 2.5598 |   1 |        39.5650 |       17.6630 |             2.2400 |       17.8930 |             2.2400 |        40.0803 |              39.6242 |      0.4561 |       0.1882 |         1570.0809|\n",
    "|          |        |   2 |                |       35.3259 |             1.1200 |       34.9660 |             1.1200 |        39.1619 |                      |     -0.4623 |              |                  |\n",
    "|          |        |   3 |                |       52.9888 |             0.7467 |       53.1250 |             0.7467 |        39.6670 |                      |      0.0424 |              |                  |\n",
    "|          |        |   4 |                |       70.6518 |             0.5600 |       70.6930 |             0.5600 |        39.5881 |                      |     -0.0362 |              |                  |"
   ]
  },
  {
   "cell_type": "markdown",
   "metadata": {},
   "source": [
    "| Peso (g) | $T$(N) | $n$ | $v$(teo) (m/s) | $f$(teo) (Hz) | $\\lambda$(teo) (m) | $f$(exp) (Hz) | $\\lambda$(exp) (m) | $v$(exp) (m/s) | $\\bar{v}$(exp) (m/s) | $v-\\bar{v}$ | $\\epsilon_v$ | $\\bar{v}^2$(exp) |\n",
    "|----------|--------|-----|----------------|---------------|--------------------|---------------|--------------------|----------------|----------------------|-------------|--------------|------------------|\n",
    "| 61.2 |0.6000 |1 |14.4600| 6.4600|2.2400| 6.4930|2.2400|14.5400|14.90|221.88| | | |3 | |19.3700|0.7500|19.6550|0.7470|14.6800|||\n",
    "| | |4 | |25.8200|0.5600|25.9010|0.5600|14.5000|||\n",
    "| | |5 | |32.2800|0.4500|35.3980|0.4480|15.8600|||\n",
    "| 111.2 |1.0900 |2 |19.4900|17.4100|1.1200|15.8800|1.1200|17.7900|18.01|324.46|\n",
    "| | |3 | |26.1100|0.7500|24.8490|0.7470|18.5500|||\n",
    "| | |5 | |43.5100|0.4500|39.3510|0.4480|17.6300|||\n",
    "| | |4 | |34.8100|0.5600|32.2890|0.5600|18.0800|||\n",
    "| 161.0 |1.5800 |1 |23.4700|10.4800|2.2400|10.3240|2.2400|23.1300|23.98|574.83|\n",
    "| | |2 | |20.9600|1.1200|21.9980|1.1200|24.6400|||\n",
    "| | |3 | |31.4300|0.7500|31.8680|0.7470|23.7900|||\n",
    "| | |4 | |41.9100|0.5600|43.4720|0.5600|24.3400|||\n",
    "| 81.00 |0.7960 |3 |16.6600|22.3100|0.7500|21.0790|0.7470|15.7400|16.19|262.23|\n",
    "| | |4 | |29.7500|0.5600|29.5550|0.5600|16.5500|||\n",
    "| | |5 | |37.1800|0.4500|36.9360|0.4480|16.5500|||\n",
    "| | |6 | |44.6200|0.3700|42.6870|0.3730|15.9400|||\n",
    "| 131.0 |1.2860 |3 |21.1700|28.3600|0.7500|26.9360|0.7470|20.1100|20.53|421.50|\n",
    "| | |4 | |37.8100|0.5600|36.9970|0.5600|20.7200|||\n",
    "| | |5 | |47.2600|0.4500|46.2640|0.4480|20.7300|||\n",
    "| | |6 | |56.7200|0.3700|55.0850|0.3730|20.5700|||"
   ]
  },
  {
   "cell_type": "code",
   "execution_count": 165,
   "metadata": {},
   "outputs": [],
   "source": [
    "import pandas as pd\n",
    "import numpy as np\n",
    "import sigfig\n",
    "import matplotlib as mpl\n",
    "import matplotlib.pyplot as plt\n",
    "import math\n",
    "plt.rcParams.update(mpl.rcParamsDefault)\n",
    "\n",
    "def rd(valor, error):\n",
    "    return eval('(\"' + sigfig.round(valor, error, cutoff=19, sep ='\",\"') + '\")')\n",
    "\n",
    "\n",
    "def tex(panda, columnas):\n",
    "    l = len(panda)\n",
    "    a = len(columnas)\n",
    "    print('\\\\begin{array}{|' + 'l|'*a + '} \\\\hline')\n",
    "    for fila in range(l):\n",
    "        s = ''\n",
    "        for col in columnas:\n",
    "            s+= str(panda[col][fila]) + ' & '\n",
    "        print(s[0: -2] + ' \\\\\\\\ \\\\hline')\n",
    "    print('\\\\end{array}')\n",
    "\n",
    "def regresion(x, y):\n",
    "    n = len(x)\n",
    "    xc = x.sum()/n\n",
    "    yc = y.sum()/n\n",
    "    sx = math.sqrt(((x**2).sum()/n)-xc**2)\n",
    "    sy = math.sqrt(((y**2).sum()/n)-yc**2)\n",
    "    sxy = ((x*y).sum()/n)-xc*yc\n",
    "    r = sxy/(sx*sy)\n",
    "    m = sxy/(sx**2)\n",
    "    b = yc - m*xc\n",
    "    em = (sy/sx)*math.sqrt((1-r**2)/(n-2))\n",
    "    eb = em*math.sqrt(sx**2 + xc**2)\n",
    "    return(m, b, em, eb, r)\n",
    "g = 9.847"
   ]
  },
  {
   "cell_type": "code",
   "execution_count": 166,
   "metadata": {},
   "outputs": [],
   "source": [
    "fr = [31,59,90.5,113,19.2,39.6,65.3,73.8,29.3,41.8,56.6,75.7,36.2,53.7,68.6,77.9,11.2,21.7,30.1,37.2]"
   ]
  },
  {
   "cell_type": "code",
   "execution_count": 167,
   "metadata": {},
   "outputs": [],
   "source": [
    "lr = [1.04,0.525,0.35,0.265,1.05,0.535,0.357,0.27,0.54,0.36,0.275,0.21,0.54,0.36,0.26,0.22,1.05,0.52,0.375,0.274]"
   ]
  },
  {
   "cell_type": "code",
   "execution_count": 168,
   "metadata": {},
   "outputs": [],
   "source": [
    "df = []\n",
    "ddf = []\n",
    "\n",
    "mu = 1.33e-3\n",
    "l = 1.05\n",
    "c = 0\n",
    "for m in [0.5143, 0.2623]:\n",
    "    for n in range(1,5):\n",
    "        T = m*g\n",
    "        fe = fr[c]\n",
    "        le = 2*lr[c]\n",
    "        vt = np.sqrt(T/mu)\n",
    "        lt = 2*l/n\n",
    "        ft = vt*n/(2*l)\n",
    "        ve = fe*2*l/n\n",
    "        ve2 = ve**2\n",
    "        if n == 1:\n",
    "            fila = [m, round(T,2), n, round(vt,2), round(ft,2), round(lt,3), round(fe,2), round(le,3), round(ve,2), round(ve2,2)]\n",
    "        else:\n",
    "            fila = [1111, 1111, n, 1111, round(ft,2), round(lt,3), round(fe,2), round(le,3), round(ve,2), round(ve2,2)]\n",
    "        df.append(fila)\n",
    "        ddf.append([m, round(T,2), n, round(vt,2), round(ft,2), round(lt,3), round(fe,2), round(le,3), round(ve,2), round(ve2,2)])\n",
    "        c += 1\n",
    "\n",
    "for m in [0.1256, 0.1841]:\n",
    "    for n in range(2,6):\n",
    "        T = m*g\n",
    "        fe = fr[c]\n",
    "        le = 2*lr[c]\n",
    "        vt = np.sqrt(T/mu)\n",
    "        lt = 2*l/n\n",
    "        ft = vt*n/(2*l)\n",
    "        ve = fe*2*l/n\n",
    "        ve2 = ve**2\n",
    "        if n == 2:\n",
    "            fila = [m, round(T,2), n, round(vt,2), round(ft,2), round(lt,3), round(fe,2), round(le,3), round(ve,2), round(ve2,2)]\n",
    "        else:\n",
    "            fila = [1111, 1111, n, 1111, round(ft,2), round(lt,3), round(fe,2), round(le,3), round(ve,2), round(ve2,2)]\n",
    "        df.append(fila)\n",
    "        ddf.append([m, round(T,2), n, round(vt,2), round(ft,2), round(lt,3), round(fe,2), round(le,3), round(ve,2), round(ve2,2)])\n",
    "        c += 1\n",
    "\n",
    "for m in [0.0616]:\n",
    "    for n in range(1,5):\n",
    "        T = m*g\n",
    "        fe = fr[c]\n",
    "        le = 2*lr[c]\n",
    "        vt = np.sqrt(T/mu)\n",
    "        lt = 2*l/n\n",
    "        ft = vt*n/(2*l)\n",
    "        ve = fe*2*l/n\n",
    "        ve2 = ve**2\n",
    "        if n == 1:\n",
    "            fila = [m, round(T,2), n, round(vt,2), round(ft,2), round(lt,3), round(fe,2), round(le,3), round(ve,2), round(ve2,2)]\n",
    "        else:\n",
    "            fila = [1111, 1111, n, 1111, round(ft,2), round(lt,3), round(fe,2), round(le,3), round(ve,2), round(ve2,2)]\n",
    "        df.append(fila)\n",
    "        ddf.append([m, round(T,2), n, round(vt,2), round(ft,2), round(lt,3), round(fe,2), round(le,3), round(ve,2), round(ve2,2)])\n",
    "        c += 1"
   ]
  },
  {
   "cell_type": "code",
   "execution_count": 169,
   "metadata": {},
   "outputs": [],
   "source": [
    "rigida = pd.DataFrame(df, columns= ['m', 'T', 'n', 'vt', 'ft', 'lt', 'fe', 'le', 've', 've2'])\n",
    "drigida = pd.DataFrame(ddf, columns= ['m', 'T', 'n', 'vt', 'ft', 'lt', 'fe', 'le', 've', 've2'])"
   ]
  },
  {
   "cell_type": "code",
   "execution_count": 170,
   "metadata": {},
   "outputs": [
    {
     "name": "stdout",
     "output_type": "stream",
     "text": [
      "\\begin{array}{|l|l|l|l|l|l|l|l|l|l|} \\hline\n",
      "0.5143 & 5.06 & 1 & 61.71 & 29.38 & 2.1 & 31.0 & 2.08 & 65.1 & 4238.01  \\\\ \\hline\n",
      "1111.0 & 1111.0 & 2 & 1111.0 & 58.77 & 1.05 & 59.0 & 1.05 & 61.95 & 3837.8  \\\\ \\hline\n",
      "1111.0 & 1111.0 & 3 & 1111.0 & 88.15 & 0.7 & 90.5 & 0.7 & 63.35 & 4013.22  \\\\ \\hline\n",
      "1111.0 & 1111.0 & 4 & 1111.0 & 117.54 & 0.525 & 113.0 & 0.53 & 59.33 & 3519.46  \\\\ \\hline\n",
      "0.2623 & 2.58 & 1 & 44.07 & 20.98 & 2.1 & 19.2 & 2.1 & 40.32 & 1625.7  \\\\ \\hline\n",
      "1111.0 & 1111.0 & 2 & 1111.0 & 41.97 & 1.05 & 39.6 & 1.07 & 41.58 & 1728.9  \\\\ \\hline\n",
      "1111.0 & 1111.0 & 3 & 1111.0 & 62.95 & 0.7 & 65.3 & 0.714 & 45.71 & 2089.4  \\\\ \\hline\n",
      "1111.0 & 1111.0 & 4 & 1111.0 & 83.94 & 0.525 & 73.8 & 0.54 & 38.74 & 1501.18  \\\\ \\hline\n",
      "0.1256 & 1.24 & 2 & 30.49 & 29.04 & 1.05 & 29.3 & 1.08 & 30.77 & 946.49  \\\\ \\hline\n",
      "1111.0 & 1111.0 & 3 & 1111.0 & 43.56 & 0.7 & 41.8 & 0.72 & 29.26 & 856.15  \\\\ \\hline\n",
      "1111.0 & 1111.0 & 4 & 1111.0 & 58.08 & 0.525 & 56.6 & 0.55 & 29.72 & 882.98  \\\\ \\hline\n",
      "1111.0 & 1111.0 & 5 & 1111.0 & 72.61 & 0.42 & 75.7 & 0.42 & 31.79 & 1010.86  \\\\ \\hline\n",
      "0.1841 & 1.81 & 2 & 36.92 & 35.16 & 1.05 & 36.2 & 1.08 & 38.01 & 1444.76  \\\\ \\hline\n",
      "1111.0 & 1111.0 & 3 & 1111.0 & 52.74 & 0.7 & 53.7 & 0.72 & 37.59 & 1413.01  \\\\ \\hline\n",
      "1111.0 & 1111.0 & 4 & 1111.0 & 70.32 & 0.525 & 68.6 & 0.52 & 36.02 & 1297.08  \\\\ \\hline\n",
      "1111.0 & 1111.0 & 5 & 1111.0 & 87.9 & 0.42 & 77.9 & 0.44 & 32.72 & 1070.47  \\\\ \\hline\n",
      "0.0616 & 0.61 & 1 & 21.36 & 10.17 & 2.1 & 11.2 & 2.1 & 23.52 & 553.19  \\\\ \\hline\n",
      "1111.0 & 1111.0 & 2 & 1111.0 & 20.34 & 1.05 & 21.7 & 1.04 & 22.79 & 519.16  \\\\ \\hline\n",
      "1111.0 & 1111.0 & 3 & 1111.0 & 30.51 & 0.7 & 30.1 & 0.75 & 21.07 & 443.94  \\\\ \\hline\n",
      "1111.0 & 1111.0 & 4 & 1111.0 & 40.68 & 0.525 & 37.2 & 0.548 & 19.53 & 381.42  \\\\ \\hline\n",
      "\\end{array}\n"
     ]
    }
   ],
   "source": [
    "tex(rigida, ['m', 'T', 'n', 'vt', 'ft', 'lt', 'fe', 'le', 've', 've2'])"
   ]
  },
  {
   "cell_type": "code",
   "execution_count": 171,
   "metadata": {},
   "outputs": [
    {
     "data": {
      "image/png": "[encoded data removed]",
      "text/plain": [
       "<Figure size 640x480 with 1 Axes>"
      ]
     },
     "metadata": {},
     "output_type": "display_data"
    }
   ],
   "source": [
    "m, n, em, en, r = regresion(drigida['T'], drigida['ve2'])\n",
    "plt.rcParams.update({'font.size': 9})\n",
    "plt.rcParams['axes.linewidth'] = 0.7\n",
    "plt.rcParams['xtick.major.width'] = 0.7\n",
    "plt.rcParams['ytick.major.width'] = 0.7\n",
    "plt.ylabel('$v^2$(m$^2$/s$s^2$)')\n",
    "plt.xlabel('$T$(N)')\n",
    "mm = min(drigida['T'])\n",
    "MM = max(drigida['T'])\n",
    "plt.plot([mm, MM], [m*mm+n, m*MM+n], color='black', linewidth=0.7)\n",
    "plt.scatter(drigida['T'], drigida['ve2'], s=4, c='black', marker='8')\n",
    "plt.savefig('D:/Latex/UNED/Primer curso/Tecnicas experimentales/ondas/figures/regresión1.png', dpi=1000, bbox_inches='tight')\n",
    "plt.show()"
   ]
  },
  {
   "cell_type": "code",
   "execution_count": 172,
   "metadata": {},
   "outputs": [
    {
     "data": {
      "text/plain": [
       "('770', '30')"
      ]
     },
     "execution_count": 172,
     "metadata": {},
     "output_type": "execute_result"
    }
   ],
   "source": [
    "rd(m,em)"
   ]
  },
  {
   "cell_type": "code",
   "execution_count": 173,
   "metadata": {},
   "outputs": [
    {
     "data": {
      "text/plain": [
       "('0.00130', '0.00005')"
      ]
     },
     "execution_count": 173,
     "metadata": {},
     "output_type": "execute_result"
    }
   ],
   "source": [
    "rd(1/m, em/m**2)"
   ]
  },
  {
   "cell_type": "markdown",
   "metadata": {},
   "source": [
    "Elastica"
   ]
  },
  {
   "cell_type": "code",
   "execution_count": 174,
   "metadata": {},
   "outputs": [],
   "source": [
    "fr = [15.3,22.5,32,35,9.1,20.4,28.9,37.6,20.4,30.6,40.8,51,11.6,23.5,34,44.6,13.8,27.6,41.5,55.4]"
   ]
  },
  {
   "cell_type": "code",
   "execution_count": 175,
   "metadata": {},
   "outputs": [],
   "source": [
    "lr = [0.54,0.36,0.267,0.21,1.05,0.525,0.365,0.27,0.52,0.365,0.27,0.217,1.05,0.525,0.365,0.275,1.05,0.53,0.355,0.265]"
   ]
  },
  {
   "cell_type": "code",
   "execution_count": 176,
   "metadata": {},
   "outputs": [
    {
     "name": "stdout",
     "output_type": "stream",
     "text": [
      "\\begin{array}{|l|l|l|l|l|l|l|l|l|l|} \\hline\n",
      "0.0616 & 0.61 & 2 & 10.2 & 9.71 & 1.05 & 15.3 & 1.08 & 16.07 & 258.08  \\\\ \\hline\n",
      "1111.0 & 1111.0 & 3 & 1111.0 & 14.57 & 0.7 & 22.5 & 0.72 & 15.75 & 248.06  \\\\ \\hline\n",
      "1111.0 & 1111.0 & 4 & 1111.0 & 19.43 & 0.525 & 32.0 & 0.534 & 16.8 & 282.24  \\\\ \\hline\n",
      "1111.0 & 1111.0 & 5 & 1111.0 & 24.29 & 0.42 & 35.0 & 0.42 & 14.7 & 216.09  \\\\ \\hline\n",
      "0.1615 & 1.59 & 1 & 16.52 & 7.86 & 2.1 & 9.1 & 2.1 & 19.11 & 365.19  \\\\ \\hline\n",
      "1111.0 & 1111.0 & 2 & 1111.0 & 15.73 & 1.05 & 20.4 & 1.05 & 21.42 & 458.82  \\\\ \\hline\n",
      "1111.0 & 1111.0 & 3 & 1111.0 & 23.59 & 0.7 & 28.9 & 0.73 & 20.23 & 409.25  \\\\ \\hline\n",
      "1111.0 & 1111.0 & 4 & 1111.0 & 31.46 & 0.525 & 37.6 & 0.54 & 19.74 & 389.67  \\\\ \\hline\n",
      "0.2629 & 2.59 & 2 & 21.07 & 20.07 & 1.05 & 20.4 & 1.04 & 21.42 & 458.82  \\\\ \\hline\n",
      "1111.0 & 1111.0 & 3 & 1111.0 & 30.1 & 0.7 & 30.6 & 0.73 & 21.42 & 458.82  \\\\ \\hline\n",
      "1111.0 & 1111.0 & 4 & 1111.0 & 40.14 & 0.525 & 40.8 & 0.54 & 21.42 & 458.82  \\\\ \\hline\n",
      "1111.0 & 1111.0 & 5 & 1111.0 & 50.17 & 0.42 & 51.0 & 0.434 & 21.42 & 458.82  \\\\ \\hline\n",
      "0.3136 & 3.09 & 1 & 23.01 & 10.96 & 2.1 & 11.6 & 2.1 & 24.36 & 593.41  \\\\ \\hline\n",
      "1111.0 & 1111.0 & 2 & 1111.0 & 21.92 & 1.05 & 23.5 & 1.05 & 24.68 & 608.86  \\\\ \\hline\n",
      "1111.0 & 1111.0 & 3 & 1111.0 & 32.88 & 0.7 & 34.0 & 0.73 & 23.8 & 566.44  \\\\ \\hline\n",
      "1111.0 & 1111.0 & 4 & 1111.0 & 43.84 & 0.525 & 44.6 & 0.55 & 23.42 & 548.26  \\\\ \\hline\n",
      "0.3622 & 3.57 & 1 & 24.73 & 11.78 & 2.1 & 13.8 & 2.1 & 28.98 & 839.84  \\\\ \\hline\n",
      "1111.0 & 1111.0 & 2 & 1111.0 & 23.56 & 1.05 & 27.6 & 1.06 & 28.98 & 839.84  \\\\ \\hline\n",
      "1111.0 & 1111.0 & 3 & 1111.0 & 35.33 & 0.7 & 41.5 & 0.71 & 29.05 & 843.9  \\\\ \\hline\n",
      "1111.0 & 1111.0 & 4 & 1111.0 & 47.11 & 0.525 & 55.4 & 0.53 & 29.09 & 845.94  \\\\ \\hline\n",
      "\\end{array}\n"
     ]
    },
    {
     "data": {
      "image/png": "[encoded data removed]",
      "text/plain": [
       "<Figure size 640x480 with 1 Axes>"
      ]
     },
     "metadata": {},
     "output_type": "display_data"
    }
   ],
   "source": [
    "df = []\n",
    "ddf = []\n",
    "\n",
    "mu = 5.83e-3\n",
    "l = 1.05\n",
    "c = 0\n",
    "for m in [0.0616]:\n",
    "    for n in range(2,6):\n",
    "        T = m*g\n",
    "        fe = fr[c]\n",
    "        le = 2*lr[c]\n",
    "        vt = np.sqrt(T/mu)\n",
    "        lt = 2*l/n\n",
    "        ft = vt*n/(2*l)\n",
    "        ve = fe*2*l/n\n",
    "        ve2 = ve**2\n",
    "        if n == 2:\n",
    "            fila = [m, round(T,2), n, round(vt,2), round(ft,2), round(lt,3), round(fe,2), round(le,3), round(ve,2), round(ve2,2)]\n",
    "        else:\n",
    "            fila = [1111, 1111, n, 1111, round(ft,2), round(lt,3), round(fe,2), round(le,3), round(ve,2), round(ve2,2)]\n",
    "        df.append(fila)\n",
    "        ddf.append([m, round(T,2), n, round(vt,2), round(ft,2), round(lt,3), round(fe,2), round(le,3), round(ve,2), round(ve2,2)])\n",
    "        c += 1\n",
    "\n",
    "for m in [0.1615]:\n",
    "    for n in range(1,5):\n",
    "        T = m*g\n",
    "        fe = fr[c]\n",
    "        le = 2*lr[c]\n",
    "        vt = np.sqrt(T/mu)\n",
    "        lt = 2*l/n\n",
    "        ft = vt*n/(2*l)\n",
    "        ve = fe*2*l/n\n",
    "        ve2 = ve**2\n",
    "        if n == 1:\n",
    "            fila = [m, round(T,2), n, round(vt,2), round(ft,2), round(lt,3), round(fe,2), round(le,3), round(ve,2), round(ve2,2)]\n",
    "        else:\n",
    "            fila = [1111, 1111, n, 1111, round(ft,2), round(lt,3), round(fe,2), round(le,3), round(ve,2), round(ve2,2)]\n",
    "        df.append(fila)\n",
    "        ddf.append([m, round(T,2), n, round(vt,2), round(ft,2), round(lt,3), round(fe,2), round(le,3), round(ve,2), round(ve2,2)])\n",
    "        c += 1\n",
    "\n",
    "for m in [0.2629]:\n",
    "    for n in range(2,6):\n",
    "        T = m*g\n",
    "        fe = fr[c]\n",
    "        le = 2*lr[c]\n",
    "        vt = np.sqrt(T/mu)\n",
    "        lt = 2*l/n\n",
    "        ft = vt*n/(2*l)\n",
    "        ve = fe*2*l/n\n",
    "        ve2 = ve**2\n",
    "        if n == 2:\n",
    "            fila = [m, round(T,2), n, round(vt,2), round(ft,2), round(lt,3), round(fe,2), round(le,3), round(ve,2), round(ve2,2)]\n",
    "        else:\n",
    "            fila = [1111, 1111, n, 1111, round(ft,2), round(lt,3), round(fe,2), round(le,3), round(ve,2), round(ve2,2)]\n",
    "        df.append(fila)\n",
    "        ddf.append([m, round(T,2), n, round(vt,2), round(ft,2), round(lt,3), round(fe,2), round(le,3), round(ve,2), round(ve2,2)])\n",
    "        c += 1\n",
    "\n",
    "for m in [0.3136, 0.3622]:\n",
    "    for n in range(1,5):\n",
    "        T = m*g\n",
    "        fe = fr[c]\n",
    "        le = 2*lr[c]\n",
    "        vt = np.sqrt(T/mu)\n",
    "        lt = 2*l/n\n",
    "        ft = vt*n/(2*l)\n",
    "        ve = fe*2*l/n\n",
    "        ve2 = ve**2\n",
    "        if n == 1:\n",
    "            fila = [m, round(T,2), n, round(vt,2), round(ft,2), round(lt,3), round(fe,2), round(le,3), round(ve,2), round(ve2,2)]\n",
    "        else:\n",
    "            fila = [1111, 1111, n, 1111, round(ft,2), round(lt,3), round(fe,2), round(le,3), round(ve,2), round(ve2,2)]\n",
    "        df.append(fila)\n",
    "        ddf.append([m, round(T,2), n, round(vt,2), round(ft,2), round(lt,3), round(fe,2), round(le,3), round(ve,2), round(ve2,2)])\n",
    "        c += 1\n",
    "\n",
    "rigida = pd.DataFrame(df, columns= ['m', 'T', 'n', 'vt', 'ft', 'lt', 'fe', 'le', 've', 've2'])\n",
    "drigida = pd.DataFrame(ddf, columns= ['m', 'T', 'n', 'vt', 'ft', 'lt', 'fe', 'le', 've', 've2'])\n",
    "\n",
    "tex(rigida, ['m', 'T', 'n', 'vt', 'ft', 'lt', 'fe', 'le', 've', 've2'])\n",
    "\n",
    "m, n, em, en, r = regresion(drigida['T'], drigida['ve2'])\n",
    "plt.rcParams.update({'font.size': 9})\n",
    "plt.rcParams['axes.linewidth'] = 0.7\n",
    "plt.rcParams['xtick.major.width'] = 0.7\n",
    "plt.rcParams['ytick.major.width'] = 0.7\n",
    "plt.ylabel('$v^2$(m$^2$/s$s^2$)')\n",
    "plt.xlabel('$T$(N)')\n",
    "mm = min(drigida['T'])\n",
    "MM = max(drigida['T'])\n",
    "plt.plot([mm, MM], [m*mm+n, m*MM+n], color='black', linewidth=0.7)\n",
    "plt.scatter(drigida['T'], drigida['ve2'], s=4, c='black', marker='8')\n",
    "plt.savefig('D:/Latex/UNED/Primer curso/Tecnicas experimentales/ondas/figures/regresión2.png', dpi=1000, bbox_inches='tight')\n",
    "plt.show()"
   ]
  },
  {
   "cell_type": "code",
   "execution_count": 177,
   "metadata": {},
   "outputs": [
    {
     "data": {
      "text/plain": [
       "('171', '17')"
      ]
     },
     "execution_count": 177,
     "metadata": {},
     "output_type": "execute_result"
    }
   ],
   "source": [
    "rd(m, em)"
   ]
  },
  {
   "cell_type": "code",
   "execution_count": 178,
   "metadata": {},
   "outputs": [
    {
     "data": {
      "text/plain": [
       "('0.0058', '0.0006')"
      ]
     },
     "execution_count": 178,
     "metadata": {},
     "output_type": "execute_result"
    }
   ],
   "source": [
    "rd(1/m, em/m**2)"
   ]
  }
 ],
 "metadata": {
  "interpreter": {
   "hash": "2647ea34e536f865ab67ff9ddee7fd78773d956cec0cab53c79b32cd10da5d83"
  },
  "kernelspec": {
   "display_name": "Python 3.9.7 64-bit",
   "language": "python",
   "name": "python3"
  },
  "language_info": {
   "codemirror_mode": {
    "name": "ipython",
    "version": 3
   },
   "file_extension": ".py",
   "mimetype": "text/x-python",
   "name": "python",
   "nbconvert_exporter": "python",
   "pygments_lexer": "ipython3",
   "version": "3.9.7"
  },
  "orig_nbformat": 4
 },
 "nbformat": 4,
 "nbformat_minor": 2
}
