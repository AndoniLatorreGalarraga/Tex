{
 "cells": [
  {
   "cell_type": "code",
   "execution_count": 12,
   "metadata": {},
   "outputs": [],
   "source": [
    "import pandas as pd\n",
    "import numpy as np\n",
    "import sigfig\n",
    "import matplotlib as mpl\n",
    "import matplotlib.pyplot as plt\n",
    "import math\n",
    "plt.rcParams.update(mpl.rcParamsDefault)\n",
    "\n",
    "def rd(valor, error):\n",
    "    return eval('(\"' + sigfig.round(valor, error, cutoff=19, sep ='\",\"') + '\")')\n",
    "\n",
    "\n",
    "def tex(panda, columnas):\n",
    "    l = len(panda)\n",
    "    a = len(columnas)\n",
    "    print('\\\\begin{array}{|' + 'l|'*a + '} \\\\hline')\n",
    "    for fila in range(l):\n",
    "        s = ''\n",
    "        for col in columnas:\n",
    "            s+= str(panda[col][fila]) + ' & '\n",
    "        print(s[0: -2] + ' \\\\\\\\ \\\\hline')\n",
    "    print('\\\\end{array}')\n",
    "\n",
    "def regresion(x, y):\n",
    "    n = len(x)\n",
    "    xc = x.sum()/n\n",
    "    yc = y.sum()/n\n",
    "    sx = math.sqrt(((x**2).sum()/n)-xc**2)\n",
    "    sy = math.sqrt(((y**2).sum()/n)-yc**2)\n",
    "    sxy = ((x*y).sum()/n)-xc*yc\n",
    "    r = sxy/(sx*sy)\n",
    "    m = sxy/(sx**2)\n",
    "    b = yc - m*xc\n",
    "    em = (sy/sx)*math.sqrt((1-r**2)/(n-2))\n",
    "    eb = em*math.sqrt(sx**2 + xc**2)\n",
    "    return(m, b, em, eb, r)"
   ]
  },
  {
   "cell_type": "code",
   "execution_count": 35,
   "metadata": {},
   "outputs": [],
   "source": [
    "datos = pd.read_csv('D:/Latex/UNED/Primer curso/Tecnicas experimentales/agua/Datos/agua.csv', names=['i', 'v', 'm'])\n",
    "t = 360\n",
    "et = 0.1\n",
    "mv = 84.33"
   ]
  },
  {
   "cell_type": "code",
   "execution_count": 36,
   "metadata": {},
   "outputs": [
    {
     "name": "stdout",
     "output_type": "stream",
     "text": [
      "\\begin{array}{|l|l|l|} \\hline\n",
      "1.6 & 143.3 & 111.31  \\\\ \\hline\n",
      "1.45 & 133.0 & 106.15  \\\\ \\hline\n",
      "1.28 & 125.4 & 100.78  \\\\ \\hline\n",
      "1.21 & 117.6 & 97.89  \\\\ \\hline\n",
      "1.12 & 109.4 & 94.85  \\\\ \\hline\n",
      "1.0 & 98.8 & 90.97  \\\\ \\hline\n",
      "0.95 & 94.8 & 89.59  \\\\ \\hline\n",
      "1.66 & 163.4 & 120.59  \\\\ \\hline\n",
      "1.73 & 173.9 & 123.34  \\\\ \\hline\n",
      "1.63 & 167.6 & 119.26  \\\\ \\hline\n",
      "\\end{array}\n"
     ]
    }
   ],
   "source": [
    "tex(datos, ['i', 'v', 'm'])"
   ]
  },
  {
   "cell_type": "code",
   "execution_count": 37,
   "metadata": {},
   "outputs": [],
   "source": [
    "datos['dm'] = datos['m']-mv\n",
    "datos['w'] = datos['i']*datos['v']\n",
    "datos['e'] = datos['w']*mv\n",
    "datos = np.round(datos, 2)"
   ]
  },
  {
   "cell_type": "code",
   "execution_count": 38,
   "metadata": {},
   "outputs": [
    {
     "name": "stdout",
     "output_type": "stream",
     "text": [
      "\\begin{array}{|l|l|l|} \\hline\n",
      "26.98 & 229.28 & 19335.18  \\\\ \\hline\n",
      "21.82 & 192.85 & 16263.04  \\\\ \\hline\n",
      "16.45 & 160.51 & 13535.98  \\\\ \\hline\n",
      "13.56 & 142.3 & 11999.82  \\\\ \\hline\n",
      "10.52 & 122.53 & 10332.79  \\\\ \\hline\n",
      "6.64 & 98.8 & 8331.8  \\\\ \\hline\n",
      "5.26 & 90.06 & 7594.76  \\\\ \\hline\n",
      "36.26 & 271.24 & 22874.01  \\\\ \\hline\n",
      "39.01 & 300.85 & 25370.43  \\\\ \\hline\n",
      "34.93 & 273.19 & 23037.94  \\\\ \\hline\n",
      "\\end{array}\n"
     ]
    }
   ],
   "source": [
    "tex(datos, ['dm', 'w', 'e'])"
   ]
  },
  {
   "cell_type": "code",
   "execution_count": 39,
   "metadata": {},
   "outputs": [
    {
     "data": {
      "image/png": "[encoded data removed]",
      "text/plain": [
       "<Figure size 640x480 with 1 Axes>"
      ]
     },
     "metadata": {},
     "output_type": "display_data"
    }
   ],
   "source": [
    "m, n, em, en, r = regresion(datos['e'], datos['dm'])\n",
    "plt.rcParams.update({'font.size': 9})\n",
    "plt.rcParams['axes.linewidth'] = 0.7\n",
    "plt.rcParams['xtick.major.width'] = 0.7\n",
    "plt.rcParams['ytick.major.width'] = 0.7\n",
    "plt.ylabel('$\\Delta M$(g)')\n",
    "plt.xlabel('$E$(cal)')\n",
    "mm = min(datos['e'])\n",
    "MM = max(datos['e'])\n",
    "plt.plot([mm, MM], [m*mm+n, m*MM+n], color='black', linewidth=0.7)\n",
    "plt.scatter(datos['e'], datos['dm'], s=4, c='black', marker='8')\n",
    "plt.savefig('D:/Latex/UNED/Primer curso/Tecnicas experimentales/agua/figures/regresión.png', dpi=1000, bbox_inches='tight')\n",
    "plt.show()"
   ]
  },
  {
   "cell_type": "code",
   "execution_count": 40,
   "metadata": {},
   "outputs": [
    {
     "data": {
      "text/plain": [
       "('0.00194', '0.00003')"
      ]
     },
     "execution_count": 40,
     "metadata": {},
     "output_type": "execute_result"
    }
   ],
   "source": [
    "rd(m, em)"
   ]
  },
  {
   "cell_type": "code",
   "execution_count": 41,
   "metadata": {},
   "outputs": [
    {
     "data": {
      "text/plain": [
       "('516', '9')"
      ]
     },
     "execution_count": 41,
     "metadata": {},
     "output_type": "execute_result"
    }
   ],
   "source": [
    "rd(1/m, em/m**2)"
   ]
  }
 ],
 "metadata": {
  "interpreter": {
   "hash": "2647ea34e536f865ab67ff9ddee7fd78773d956cec0cab53c79b32cd10da5d83"
  },
  "kernelspec": {
   "display_name": "Python 3.9.7 64-bit",
   "language": "python",
   "name": "python3"
  },
  "language_info": {
   "codemirror_mode": {
    "name": "ipython",
    "version": 3
   },
   "file_extension": ".py",
   "mimetype": "text/x-python",
   "name": "python",
   "nbconvert_exporter": "python",
   "pygments_lexer": "ipython3",
   "version": "3.9.7"
  },
  "orig_nbformat": 4
 },
 "nbformat": 4,
 "nbformat_minor": 2
}
