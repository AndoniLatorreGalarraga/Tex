{
 "cells": [
  {
   "cell_type": "code",
   "execution_count": 439,
   "metadata": {},
   "outputs": [],
   "source": [
    "import pandas as pd\n",
    "import numpy as np\n",
    "import sigfig\n",
    "import matplotlib as mpl\n",
    "import matplotlib.pyplot as plt\n",
    "import math\n",
    "plt.rcParams.update(mpl.rcParamsDefault)\n",
    "\n",
    "def rd(valor, error):\n",
    "    return eval('(\"' + sigfig.round(valor, error, cutoff=19, sep ='\",\"') + '\")')\n",
    "\n",
    "\n",
    "def tex(panda, columnas):\n",
    "    l = len(panda)\n",
    "    a = len(columnas)\n",
    "    print('\\\\begin{array}{|' + 'l|'*a + '} \\\\hline')\n",
    "    for fila in range(l):\n",
    "        s = ''\n",
    "        for col in columnas:\n",
    "            s+= str(panda[col][fila]) + ' & '\n",
    "        print(s[0: -2] + ' \\\\\\\\ \\\\hline')\n",
    "    print('\\\\end{array}')\n",
    "\n",
    "def regresion(x, y):\n",
    "    n = len(x)\n",
    "    xc = x.sum()/n\n",
    "    yc = y.sum()/n\n",
    "    sx = math.sqrt(((x**2).sum()/n)-xc**2)\n",
    "    sy = math.sqrt(((y**2).sum()/n)-yc**2)\n",
    "    sxy = ((x*y).sum()/n)-xc*yc\n",
    "    r = sxy/(sx*sy)\n",
    "    m = sxy/(sx**2)\n",
    "    b = yc - m*xc\n",
    "    em = (sy/sx)*math.sqrt((1-r**2)/(n-2))\n",
    "    eb = em*math.sqrt(sx**2 + xc**2)\n",
    "    return(m, b, em, eb, r)"
   ]
  },
  {
   "cell_type": "code",
   "execution_count": 440,
   "metadata": {},
   "outputs": [],
   "source": [
    "datos = pd.read_csv('D:/Latex/UNED/Primer curso/Tecnicas experimentales/carril/Datos/carril1.csv', names=['t1','t2','t3','t4','t5'])"
   ]
  },
  {
   "cell_type": "code",
   "execution_count": 441,
   "metadata": {},
   "outputs": [
    {
     "name": "stdout",
     "output_type": "stream",
     "text": [
      "\\begin{array}{|l|l|l|l|l|} \\hline\n",
      "5.35 & 5.25 & 5.19 & 5.43 & 5.28  \\\\ \\hline\n",
      "5.22 & 5.31 & 5.19 & 5.06 & 5.22  \\\\ \\hline\n",
      "7.78 & 7.71 & 7.91 & 7.97 & 7.75  \\\\ \\hline\n",
      "7.69 & 7.72 & 7.88 & 7.56 & 7.59  \\\\ \\hline\n",
      "3.78 & 3.81 & 3.78 & 3.75 & 3.81  \\\\ \\hline\n",
      "\\end{array}\n"
     ]
    }
   ],
   "source": [
    "tex(datos,['t1','t2','t3','t4','t5'])"
   ]
  },
  {
   "cell_type": "code",
   "execution_count": 442,
   "metadata": {},
   "outputs": [],
   "source": [
    "datos['et'] = datos['t1']\n",
    "datos['t'] = datos['t1']\n",
    "for fila in range(5):\n",
    "    l =[datos['t1'][fila], datos['t2'][fila], datos['t3'][fila], datos['t4'][fila], datos['t5'][fila]]\n",
    "    datos['et'][fila] = (max(l)-min(l))/(10*math.sqrt(10))\n",
    "    datos['t'][fila] = (datos['t1'][fila]+ datos['t2'][fila]+ datos['t3'][fila]+ datos['t4'][fila]+ datos['t5'][fila])/25\n",
    "    datos['t'][fila], datos['et'][fila] = rd(datos['t'][fila], datos['et'][fila])\n",
    "    datos['t'][fila], datos['et'][fila] = float(datos['t'][fila]), float(datos['et'][fila])"
   ]
  },
  {
   "cell_type": "code",
   "execution_count": 443,
   "metadata": {},
   "outputs": [
    {
     "name": "stdout",
     "output_type": "stream",
     "text": [
      "\\begin{array}{|l|l|} \\hline\n",
      "1.06 & 0.008  \\\\ \\hline\n",
      "1.04 & 0.008  \\\\ \\hline\n",
      "1.565 & 0.008  \\\\ \\hline\n",
      "1.538 & 0.01  \\\\ \\hline\n",
      "0.7572 & 0.0019  \\\\ \\hline\n",
      "\\end{array}\n"
     ]
    }
   ],
   "source": [
    "tex(datos, ['t', 'et'])"
   ]
  },
  {
   "cell_type": "code",
   "execution_count": 444,
   "metadata": {},
   "outputs": [],
   "source": [
    "datos['k'] = 4*(math.pi**2)*0.4963/(datos['t']**2)\n",
    "datos['ek'] = datos['k']\n",
    "for fila in range(5):\n",
    "    datos['ek'][fila] = 4*(math.pi**2)/(datos['t'][fila]**2) * math.sqrt(0.001**2 + (datos['et'][fila]**2)*4*(0.4963**2)/(datos['t'][fila]**2))\n",
    "    a, b = rd(datos['k'][fila], datos['ek'][fila])\n",
    "    datos['k'][fila], datos['ek'][fila] = float(a), float(b)    "
   ]
  },
  {
   "cell_type": "code",
   "execution_count": 445,
   "metadata": {},
   "outputs": [
    {
     "name": "stdout",
     "output_type": "stream",
     "text": [
      "\\begin{array}{|l|l|l|l|} \\hline\n",
      "1.06 & 0.008 & 17.4 & 0.3  \\\\ \\hline\n",
      "1.04 & 0.008 & 18.1 & 0.3  \\\\ \\hline\n",
      "1.565 & 0.008 & 8.0 & 0.08  \\\\ \\hline\n",
      "1.538 & 0.01 & 8.28 & 0.11  \\\\ \\hline\n",
      "0.7572 & 0.0019 & 34.17 & 0.18  \\\\ \\hline\n",
      "\\end{array}\n"
     ]
    }
   ],
   "source": [
    "tex(datos,['t', 'et', 'k', 'ek'])"
   ]
  },
  {
   "cell_type": "markdown",
   "metadata": {},
   "source": [
    "Plano Inclinado"
   ]
  },
  {
   "cell_type": "code",
   "execution_count": 446,
   "metadata": {},
   "outputs": [],
   "source": [
    "datosg = pd.read_csv('D:/Latex/UNED/Primer curso/Tecnicas experimentales/carril/Datos/carril2.csv', names=['x','t1','t2','t3','t4','t1c','t2c','t3c','t4c'])\n",
    "datosg['x'] = datosg['x']/100\n",
    "h = 1.1"
   ]
  },
  {
   "cell_type": "code",
   "execution_count": 447,
   "metadata": {},
   "outputs": [
    {
     "name": "stdout",
     "output_type": "stream",
     "text": [
      "\\begin{array}{|l|l|l|l|l|} \\hline\n",
      "0.1 & 1.47 & 1.62 & 1.71 & 1.59  \\\\ \\hline\n",
      "0.09 & 1.59 & 1.69 & 1.75 & 1.72  \\\\ \\hline\n",
      "0.08 & 1.75 & 1.75 & 1.78 & 1.81  \\\\ \\hline\n",
      "0.07 & 1.88 & 1.91 & 1.81 & 1.9  \\\\ \\hline\n",
      "0.06 & 2.1 & 2.13 & 2.07 & 2.12  \\\\ \\hline\n",
      "0.05 & 2.34 & 2.28 & 2.18 & 2.28  \\\\ \\hline\n",
      "0.04 & 2.53 & 2.59 & 2.6 & 2.57  \\\\ \\hline\n",
      "\\end{array}\n"
     ]
    }
   ],
   "source": [
    "tex(datosg,['x','t1','t2','t3','t4'])"
   ]
  },
  {
   "cell_type": "code",
   "execution_count": 448,
   "metadata": {},
   "outputs": [
    {
     "name": "stdout",
     "output_type": "stream",
     "text": [
      "\\begin{array}{|l|l|l|l|l|} \\hline\n",
      "0.1 & 1.47 & 1.41 & 1.5 & 1.56  \\\\ \\hline\n",
      "0.09 & 1.64 & 1.75 & 1.75 & 1.69  \\\\ \\hline\n",
      "0.08 & 1.82 & 1.75 & 1.78 & 1.82  \\\\ \\hline\n",
      "0.07 & 2.0 & 1.96 & 2.0 & 2.03  \\\\ \\hline\n",
      "0.06 & 2.16 & 2.07 & 2.09 & 2.09  \\\\ \\hline\n",
      "0.05 & 2.34 & 2.34 & 2.21 & 2.28  \\\\ \\hline\n",
      "0.04 & 2.59 & 2.63 & 2.69 & 2.53  \\\\ \\hline\n",
      "\\end{array}\n"
     ]
    }
   ],
   "source": [
    "tex(datosg,['x','t1c','t2c','t3c','t4c'])"
   ]
  },
  {
   "cell_type": "code",
   "execution_count": 449,
   "metadata": {},
   "outputs": [
    {
     "name": "stderr",
     "output_type": "stream",
     "text": [
      "C:\\Users\\User\\AppData\\Local\\Programs\\Python\\Python39\\lib\\site-packages\\sigfig\\sigfig.py:586: UserWarning: warning: 2 significant figures requested from number with only 1 significant figures\n",
      "  warn(\"warning: %d significant figures requested from number with only %d significant figures\" % (given['sigfigs'], len(num.map)))\n"
     ]
    }
   ],
   "source": [
    "datosg['t'] = datosg['x']\n",
    "datosg['tc'] = datosg['x']\n",
    "datosg['et'] = datosg['x']\n",
    "datosg['etc'] = datosg['x']\n",
    "for fila in range(7):\n",
    "    l = [datosg['t1'][fila], datosg['t2'][fila], datosg['t3'][fila], datosg['t4'][fila]]\n",
    "    lc = [datosg['t1c'][fila], datosg['t2c'][fila], datosg['t3c'][fila], datosg['t4c'][fila]]\n",
    "\n",
    "    datosg['t'][fila] = (datosg['t1'][fila]+ datosg['t2'][fila]+ datosg['t3'][fila]+ datosg['t4'][fila])/4\n",
    "    datosg['tc'][fila] = (datosg['t1c'][fila]+ datosg['t2c'][fila]+ datosg['t3c'][fila]+ datosg['t4c'][fila])/4\n",
    "\n",
    "    datosg['et'][fila] = (max(l) - min(l))/4\n",
    "    datosg['etc'][fila] = (max(lc) - min(lc))/4\n",
    "\n",
    "    a, b = datosg['t'][fila], datosg['et'][fila]\n",
    "    a, b = rd(a, b)\n",
    "    a, b = float(a), float(b)\n",
    "    datosg['t'][fila], datosg['et'][fila] = a, b\n",
    "\n",
    "    a, b = datosg['tc'][fila], datosg['etc'][fila]\n",
    "    a, b = rd(a, b)\n",
    "    a, b = float(a), float(b)\n",
    "    datosg['tc'][fila], datosg['etc'][fila] = a, b"
   ]
  },
  {
   "cell_type": "code",
   "execution_count": 450,
   "metadata": {},
   "outputs": [
    {
     "name": "stdout",
     "output_type": "stream",
     "text": [
      "\\begin{array}{|l|l|l|} \\hline\n",
      "0.1 & 1.6 & 0.06  \\\\ \\hline\n",
      "0.09 & 1.69 & 0.04  \\\\ \\hline\n",
      "0.08 & 1.773 & 0.015  \\\\ \\hline\n",
      "0.07 & 1.88 & 0.02  \\\\ \\hline\n",
      "0.06 & 2.105 & 0.015  \\\\ \\hline\n",
      "0.05 & 2.27 & 0.04  \\\\ \\hline\n",
      "0.04 & 2.573 & 0.018  \\\\ \\hline\n",
      "\\end{array}\n"
     ]
    }
   ],
   "source": [
    "tex(datosg, ['x', 't', 'et'])"
   ]
  },
  {
   "cell_type": "code",
   "execution_count": 451,
   "metadata": {},
   "outputs": [
    {
     "name": "stdout",
     "output_type": "stream",
     "text": [
      "\\begin{array}{|l|l|l|} \\hline\n",
      "0.1 & 1.48 & 0.04  \\\\ \\hline\n",
      "0.09 & 1.71 & 0.03  \\\\ \\hline\n",
      "0.08 & 1.793 & 0.018  \\\\ \\hline\n",
      "0.07 & 1.998 & 0.017  \\\\ \\hline\n",
      "0.06 & 2.1 & 0.02  \\\\ \\hline\n",
      "0.05 & 2.29 & 0.03  \\\\ \\hline\n",
      "0.04 & 2.61 & 0.04  \\\\ \\hline\n",
      "\\end{array}\n"
     ]
    }
   ],
   "source": [
    "tex(datosg, ['x', 'tc', 'etc'])"
   ]
  },
  {
   "cell_type": "code",
   "execution_count": 452,
   "metadata": {},
   "outputs": [],
   "source": [
    "datosg['sen'] = datosg['x']/h\n",
    "datosg['esen'] = 0.001*np.sqrt(1 + 4*datosg['x']**2/h**2)/h\n",
    "for fila in range(7):\n",
    "    a, b = datosg['sen'][fila], datosg['esen'][fila]\n",
    "    a, b = rd(a, b)\n",
    "    a, b = float(a), float(b)\n",
    "    datosg['sen'][fila], datosg['esen'][fila] = a, b"
   ]
  },
  {
   "cell_type": "code",
   "execution_count": 453,
   "metadata": {},
   "outputs": [],
   "source": [
    "datosg['2ht2'] = 2*h/datosg['t']**2\n",
    "datosg['2ht2c'] = 2*h/datosg['tc']**2\n",
    "datosg['e2ht2'] = 2*np.sqrt(0.001**2 + 4*(h**2)*(datosg['et']**2)/(datosg['t']**2) )/(datosg['t']**2)\n",
    "datosg['e2ht2c'] = 2*np.sqrt(0.001**2 + 4*(h**2)*(datosg['etc']**2)/(datosg['tc']**2) )/(datosg['tc']**2)\n",
    "for fila in range(7):\n",
    "    a, b = datosg['2ht2'][fila], datosg['e2ht2'][fila]\n",
    "    a, b = rd(a, b)\n",
    "    a, b = float(a), float(b)\n",
    "    datosg['2ht2'][fila], datosg['e2ht2'][fila] = a, b\n",
    "\n",
    "    a, b = datosg['2ht2c'][fila], datosg['e2ht2c'][fila]\n",
    "    a, b = rd(a, b)\n",
    "    a, b = float(a), float(b)\n",
    "    datosg['2ht2c'][fila], datosg['e2ht2c'][fila] = a, b"
   ]
  },
  {
   "cell_type": "code",
   "execution_count": 454,
   "metadata": {},
   "outputs": [
    {
     "name": "stdout",
     "output_type": "stream",
     "text": [
      "\\begin{array}{|l|l|l|l|} \\hline\n",
      "0.0909 & 0.0009 & 0.86 & 0.06  \\\\ \\hline\n",
      "0.0818 & 0.0009 & 0.77 & 0.04  \\\\ \\hline\n",
      "0.0727 & 0.0009 & 0.7 & 0.012  \\\\ \\hline\n",
      "0.0636 & 0.0009 & 0.622 & 0.013  \\\\ \\hline\n",
      "0.0545 & 0.0009 & 0.496 & 0.007  \\\\ \\hline\n",
      "0.0455 & 0.0009 & 0.427 & 0.015  \\\\ \\hline\n",
      "0.0364 & 0.0009 & 0.332 & 0.005  \\\\ \\hline\n",
      "\\end{array}\n"
     ]
    }
   ],
   "source": [
    "tex(datosg,['sen','esen', '2ht2', 'e2ht2'])"
   ]
  },
  {
   "cell_type": "code",
   "execution_count": 455,
   "metadata": {},
   "outputs": [
    {
     "name": "stdout",
     "output_type": "stream",
     "text": [
      "\\begin{array}{|l|l|l|l|} \\hline\n",
      "0.0909 & 0.0009 & 1.0 & 0.05  \\\\ \\hline\n",
      "0.0818 & 0.0009 & 0.75 & 0.03  \\\\ \\hline\n",
      "0.0727 & 0.0009 & 0.684 & 0.014  \\\\ \\hline\n",
      "0.0636 & 0.0009 & 0.551 & 0.009  \\\\ \\hline\n",
      "0.0545 & 0.0009 & 0.499 & 0.01  \\\\ \\hline\n",
      "0.0455 & 0.0009 & 0.42 & 0.011  \\\\ \\hline\n",
      "0.0364 & 0.0009 & 0.323 & 0.01  \\\\ \\hline\n",
      "\\end{array}\n"
     ]
    }
   ],
   "source": [
    "tex(datosg,['sen','esen', '2ht2c', 'e2ht2c'])"
   ]
  },
  {
   "cell_type": "code",
   "execution_count": 456,
   "metadata": {},
   "outputs": [
    {
     "data": {
      "image/png": "[encoded data removed]",
      "text/plain": [
       "<Figure size 640x480 with 1 Axes>"
      ]
     },
     "metadata": {},
     "output_type": "display_data"
    }
   ],
   "source": [
    "m, n, em, en, r = regresion(datosg['sen'], datosg['2ht2'])\n",
    "plt.rcParams.update({'font.size': 9})\n",
    "plt.rcParams['axes.linewidth'] = 0.7\n",
    "plt.rcParams['xtick.major.width'] = 0.7\n",
    "plt.rcParams['ytick.major.width'] = 0.7\n",
    "plt.ylabel('$\\\\frac{2h}{T^2}$ (ms$^{-2}$)')\n",
    "plt.xlabel('sen$\\\\theta$')\n",
    "mm = min(datosg['sen'])\n",
    "MM = max(datosg['sen'])\n",
    "plt.plot([mm, MM], [m*mm+n, m*MM+n], color='black', linewidth=0.7)\n",
    "plt.errorbar(datosg['sen'], datosg['2ht2'], xerr=datosg['esen'], yerr=datosg['e2ht2'], ls='none', capsize = 2, elinewidth=0.7, ecolor='black', capthick=0.7)\n",
    "plt.scatter(datosg['sen'], datosg['2ht2'], s=0.6, c='black', marker='8')\n",
    "plt.savefig('D:/Latex/UNED/Primer curso/Tecnicas experimentales/carril/figures/regresión1.png', dpi=1000, bbox_inches='tight')\n",
    "plt.show()"
   ]
  },
  {
   "cell_type": "code",
   "execution_count": 457,
   "metadata": {},
   "outputs": [
    {
     "data": {
      "text/plain": [
       "('9.7', '0.3')"
      ]
     },
     "execution_count": 457,
     "metadata": {},
     "output_type": "execute_result"
    }
   ],
   "source": [
    "rd(m, em)"
   ]
  },
  {
   "cell_type": "code",
   "execution_count": 458,
   "metadata": {},
   "outputs": [
    {
     "data": {
      "image/png": "[encoded data removed]",
      "text/plain": [
       "<Figure size 640x480 with 1 Axes>"
      ]
     },
     "metadata": {},
     "output_type": "display_data"
    }
   ],
   "source": [
    "m, n, em, en, r = regresion(datosg['sen'], datosg['2ht2c'])\n",
    "plt.rcParams.update({'font.size': 9})\n",
    "plt.rcParams['axes.linewidth'] = 0.7\n",
    "plt.rcParams['xtick.major.width'] = 0.7\n",
    "plt.rcParams['ytick.major.width'] = 0.7\n",
    "plt.ylabel('$\\\\frac{2h}{T^2}$ (ms$^{-2}$)')\n",
    "plt.xlabel('sen$\\\\theta$')\n",
    "mm = min(datosg['sen'])\n",
    "MM = max(datosg['sen'])\n",
    "plt.plot([mm, MM], [m*mm+n, m*MM+n], color='black', linewidth=0.7)\n",
    "plt.errorbar(datosg['sen'], datosg['2ht2c'], xerr=datosg['esen'], yerr=datosg['e2ht2c'], ls='none', capsize = 2, elinewidth=0.7, ecolor='black', capthick=0.7)\n",
    "plt.scatter(datosg['sen'], datosg['2ht2c'], s=0.6, c='black', marker='8')\n",
    "plt.savefig('D:/Latex/UNED/Primer curso/Tecnicas experimentales/carril/figures/regresión2.png', dpi=1000, bbox_inches='tight')\n",
    "plt.show()"
   ]
  },
  {
   "cell_type": "code",
   "execution_count": 459,
   "metadata": {},
   "outputs": [
    {
     "data": {
      "text/plain": [
       "('11.3', '1.2')"
      ]
     },
     "execution_count": 459,
     "metadata": {},
     "output_type": "execute_result"
    }
   ],
   "source": [
    "rd(m, em)"
   ]
  },
  {
   "cell_type": "code",
   "execution_count": 460,
   "metadata": {},
   "outputs": [],
   "source": [
    "k1 = 17.4\n",
    "ek1 = 0.3\n",
    "k2 = 18.1\n",
    "ek2 = 0.3"
   ]
  },
  {
   "cell_type": "code",
   "execution_count": 464,
   "metadata": {},
   "outputs": [
    {
     "name": "stdout",
     "output_type": "stream",
     "text": [
      "('8.87', '0.02')\n",
      "('35.5', '0.4')\n"
     ]
    }
   ],
   "source": [
    "div = 1/(1/k1 + 1/k2)\n",
    "print(rd(div, 2*div*math.sqrt(ek1**2/k1**4 + ek2**2/k2**4)))\n",
    "print(rd(k1+k2, math.sqrt(ek1**2 + ek2**2)))"
   ]
  }
 ],
 "metadata": {
  "interpreter": {
   "hash": "2647ea34e536f865ab67ff9ddee7fd78773d956cec0cab53c79b32cd10da5d83"
  },
  "kernelspec": {
   "display_name": "Python 3.9.7 64-bit",
   "language": "python",
   "name": "python3"
  },
  "language_info": {
   "codemirror_mode": {
    "name": "ipython",
    "version": 3
   },
   "file_extension": ".py",
   "mimetype": "text/x-python",
   "name": "python",
   "nbconvert_exporter": "python",
   "pygments_lexer": "ipython3",
   "version": "3.9.7"
  },
  "orig_nbformat": 4
 },
 "nbformat": 4,
 "nbformat_minor": 2
}
