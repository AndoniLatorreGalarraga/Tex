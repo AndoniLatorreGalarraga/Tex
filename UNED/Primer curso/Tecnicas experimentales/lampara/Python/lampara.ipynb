{
 "cells": [
  {
   "cell_type": "code",
   "execution_count": 9,
   "metadata": {},
   "outputs": [],
   "source": [
    "import pandas as pd\n",
    "import numpy as np\n",
    "import sigfig\n",
    "import matplotlib as mpl\n",
    "import matplotlib.pyplot as plt\n",
    "import math\n",
    "plt.rcParams.update(mpl.rcParamsDefault)\n",
    "\n",
    "def rd(valor, error):\n",
    "    return eval('(\"' + sigfig.round(valor, error, cutoff=19, sep ='\",\"') + '\")')\n",
    "\n",
    "\n",
    "def tex(panda, columnas):\n",
    "    l = len(panda)\n",
    "    a = len(columnas)\n",
    "    print('\\\\begin{array}{|' + 'l|'*a + '} \\\\hline')\n",
    "    for fila in range(l):\n",
    "        s = ''\n",
    "        for col in columnas:\n",
    "            s+= str(panda[col][fila]) + ' & '\n",
    "        print(s[0: -2] + ' \\\\\\\\ \\\\hline')\n",
    "    print('\\\\end{array}')\n",
    "\n",
    "def regresion(x, y):\n",
    "    n = len(x)\n",
    "    xc = x.sum()/n\n",
    "    yc = y.sum()/n\n",
    "    sx = math.sqrt(((x**2).sum()/n)-xc**2)\n",
    "    sy = math.sqrt(((y**2).sum()/n)-yc**2)\n",
    "    sxy = ((x*y).sum()/n)-xc*yc\n",
    "    r = sxy/(sx*sy)\n",
    "    m = sxy/(sx**2)\n",
    "    b = yc - m*xc\n",
    "    em = (sy/sx)*math.sqrt((1-r**2)/(n-2))\n",
    "    eb = em*math.sqrt(sx**2 + xc**2)\n",
    "    return(m, b, em, eb, r)"
   ]
  },
  {
   "cell_type": "code",
   "execution_count": 10,
   "metadata": {},
   "outputs": [],
   "source": [
    "datos = pd.read_csv('D:/Latex/UNED/Primer curso/Tecnicas experimentales/lampara/Datos/lampara.csv', names=['v','i'])"
   ]
  },
  {
   "cell_type": "code",
   "execution_count": 11,
   "metadata": {},
   "outputs": [],
   "source": [
    "datos['vi'] = datos['v']/datos['i']\n",
    "datos = np.round(datos,2)"
   ]
  },
  {
   "cell_type": "code",
   "execution_count": 12,
   "metadata": {},
   "outputs": [
    {
     "name": "stdout",
     "output_type": "stream",
     "text": [
      "\\begin{array}{|l|l|l|} \\hline\n",
      "9.5 & 0.03 & 316.67  \\\\ \\hline\n",
      "18.8 & 0.09 & 208.89  \\\\ \\hline\n",
      "27.4 & 0.19 & 144.21  \\\\ \\hline\n",
      "36.1 & 0.32 & 112.81  \\\\ \\hline\n",
      "41.1 & 0.41 & 100.24  \\\\ \\hline\n",
      "54.4 & 0.45 & 120.89  \\\\ \\hline\n",
      "64.1 & 0.49 & 130.82  \\\\ \\hline\n",
      "74.8 & 0.48 & 155.83  \\\\ \\hline\n",
      "83.9 & 0.53 & 158.3  \\\\ \\hline\n",
      "93.6 & 0.56 & 167.14  \\\\ \\hline\n",
      "103.6 & 0.55 & 188.36  \\\\ \\hline\n",
      "113.8 & 0.62 & 183.55  \\\\ \\hline\n",
      "123.6 & 0.67 & 184.48  \\\\ \\hline\n",
      "133.4 & 0.76 & 175.53  \\\\ \\hline\n",
      "142.9 & 0.87 & 164.25  \\\\ \\hline\n",
      "152.7 & 0.98 & 155.82  \\\\ \\hline\n",
      "162.4 & 1.09 & 148.99  \\\\ \\hline\n",
      "172.2 & 1.21 & 142.31  \\\\ \\hline\n",
      "188.1 & 1.34 & 140.37  \\\\ \\hline\n",
      "192.2 & 1.48 & 129.86  \\\\ \\hline\n",
      "\\end{array}\n"
     ]
    }
   ],
   "source": [
    "tex(datos,['v','i','vi'])"
   ]
  },
  {
   "cell_type": "code",
   "execution_count": 19,
   "metadata": {},
   "outputs": [
    {
     "data": {
      "image/png": "[encoded data removed]",
      "text/plain": [
       "<Figure size 640x480 with 1 Axes>"
      ]
     },
     "metadata": {},
     "output_type": "display_data"
    }
   ],
   "source": [
    "plt.rcParams.update({'font.size': 9})\n",
    "plt.rcParams['axes.linewidth'] = 0.7\n",
    "plt.rcParams['xtick.major.width'] = 0.7\n",
    "plt.rcParams['ytick.major.width'] = 0.7\n",
    "plt.ylabel('$I$(A)')\n",
    "plt.xlabel('$V$(V))')\n",
    "plt.scatter(datos['v'], datos['i'], s=4, c='black', marker='8')\n",
    "plt.savefig('D:/Latex/UNED/Primer curso/Tecnicas experimentales/lampara/figures/curva.png', dpi=1000, bbox_inches='tight')\n",
    "plt.show()"
   ]
  }
 ],
 "metadata": {
  "interpreter": {
   "hash": "2647ea34e536f865ab67ff9ddee7fd78773d956cec0cab53c79b32cd10da5d83"
  },
  "kernelspec": {
   "display_name": "Python 3.9.7 64-bit",
   "language": "python",
   "name": "python3"
  },
  "language_info": {
   "codemirror_mode": {
    "name": "ipython",
    "version": 3
   },
   "file_extension": ".py",
   "mimetype": "text/x-python",
   "name": "python",
   "nbconvert_exporter": "python",
   "pygments_lexer": "ipython3",
   "version": "3.9.7"
  },
  "orig_nbformat": 4
 },
 "nbformat": 4,
 "nbformat_minor": 2
}
