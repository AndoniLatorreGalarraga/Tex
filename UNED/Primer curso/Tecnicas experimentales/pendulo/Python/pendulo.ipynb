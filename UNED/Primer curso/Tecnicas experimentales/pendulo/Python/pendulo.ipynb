{
 "cells": [
  {
   "cell_type": "code",
   "execution_count": 114,
   "metadata": {},
   "outputs": [],
   "source": [
    "import pandas as pd\n",
    "import sigfig\n",
    "import matplotlib.pyplot as plt\n",
    "import math"
   ]
  },
  {
   "cell_type": "markdown",
   "metadata": {},
   "source": [
    "redondeo"
   ]
  },
  {
   "cell_type": "code",
   "execution_count": 115,
   "metadata": {},
   "outputs": [],
   "source": [
    "def rd(valor, error):\n",
    "    return eval('(\"' + sigfig.round(valor, error, cutoff=19, sep ='\",\"') + '\")')"
   ]
  },
  {
   "cell_type": "code",
   "execution_count": 116,
   "metadata": {},
   "outputs": [
    {
     "data": {
      "text/plain": [
       "('0.08721', '0.00013')"
      ]
     },
     "execution_count": 116,
     "metadata": {},
     "output_type": "execute_result"
    }
   ],
   "source": [
    "rd(0.087214, 0.0001256)"
   ]
  },
  {
   "cell_type": "code",
   "execution_count": 117,
   "metadata": {},
   "outputs": [
    {
     "data": {
      "text/plain": [
       "('1280', '3')"
      ]
     },
     "execution_count": 117,
     "metadata": {},
     "output_type": "execute_result"
    }
   ],
   "source": [
    "rd(1280.23, 3.1456)"
   ]
  },
  {
   "cell_type": "markdown",
   "metadata": {},
   "source": [
    "pasar de pandas a latex"
   ]
  },
  {
   "cell_type": "code",
   "execution_count": 118,
   "metadata": {},
   "outputs": [],
   "source": [
    "def tex(panda, columnas):\n",
    "    l = len(panda)\n",
    "    a = len(columnas)\n",
    "    print('\\\\begin{array}{|' + 'l|'*a + '} \\\\hline')\n",
    "    for fila in range(l):\n",
    "        s = ''\n",
    "        for col in columnas:\n",
    "            s+= str(panda[col][fila]) + ' & '\n",
    "        print(s[0: -2] + ' \\\\\\\\ \\\\hline')\n",
    "    print('\\\\end{array}')"
   ]
  },
  {
   "cell_type": "markdown",
   "metadata": {},
   "source": [
    "importar datos"
   ]
  },
  {
   "cell_type": "code",
   "execution_count": 119,
   "metadata": {},
   "outputs": [],
   "source": [
    "datos = pd.read_csv('D:/Latex/UNED/Primer curso/Tecnicas experimentales/pendulo/Datos/pendulo.csv', names=['b', 't1', 't2', 't3', 't4', 't5'])"
   ]
  },
  {
   "cell_type": "markdown",
   "metadata": {},
   "source": [
    "tabla 1"
   ]
  },
  {
   "cell_type": "code",
   "execution_count": 120,
   "metadata": {},
   "outputs": [
    {
     "name": "stdout",
     "output_type": "stream",
     "text": [
      "\\begin{array}{|l|l|l|l|l|l|} \\hline\n",
      "0.08 & 15.07 & 15.13 & 15.19 & 15.13 & 15.0  \\\\ \\hline\n",
      "0.09 & 14.31 & 13.28 & 14.31 & 14.28 & 14.38  \\\\ \\hline\n",
      "0.1 & 13.91 & 13.91 & 13.97 & 13.82 & 13.78  \\\\ \\hline\n",
      "0.11 & 13.53 & 13.44 & 13.25 & 13.37 & 13.78  \\\\ \\hline\n",
      "0.12 & 13.25 & 13.37 & 13.4 & 13.16 & 13.19  \\\\ \\hline\n",
      "0.13 & 13.06 & 12.97 & 13.03 & 13.12 & 12.97  \\\\ \\hline\n",
      "0.14 & 12.84 & 12.81 & 12.88 & 12.84 & 12.72  \\\\ \\hline\n",
      "0.15 & 12.56 & 12.5 & 12.72 & 12.69 & 12.78  \\\\ \\hline\n",
      "0.16 & 12.53 & 12.63 & 12.59 & 12.5 & 12.47  \\\\ \\hline\n",
      "0.17 & 12.44 & 12.41 & 12.53 & 12.44 & 12.5  \\\\ \\hline\n",
      "0.18 & 12.44 & 12.43 & 12.5 & 12.54 & 12.47  \\\\ \\hline\n",
      "0.19 & 12.34 & 12.47 & 12.31 & 12.35 & 12.28  \\\\ \\hline\n",
      "0.2 & 12.37 & 12.5 & 12.37 & 12.47 & 12.43  \\\\ \\hline\n",
      "0.21 & 12.16 & 12.4 & 12.56 & 12.6 & 12.19  \\\\ \\hline\n",
      "0.22 & 12.46 & 12.53 & 12.62 & 12.53 & 12.37  \\\\ \\hline\n",
      "0.23 & 12.59 & 12.5 & 12.41 & 12.62 & 12.56  \\\\ \\hline\n",
      "0.24 & 12.56 & 12.62 & 12.57 & 12.59 & 12.59  \\\\ \\hline\n",
      "0.25 & 25.03 & 25.22 & 25.31 & 25.18 & 25.35  \\\\ \\hline\n",
      "0.26 & 25.34 & 25.37 & 25.41 & 25.44 & 25.25  \\\\ \\hline\n",
      "0.27 & 25.5 & 25.47 & 25.59 & 25.57 & 25.6  \\\\ \\hline\n",
      "0.28 & 25.78 & 24.38 & 25.78 & 25.72 & 25.59  \\\\ \\hline\n",
      "0.29 & 12.97 & 12.94 & 13.03 & 13.0 & 13.0  \\\\ \\hline\n",
      "0.3 & 13.0 & 13.06 & 12.91 & 13.03 & 13.07  \\\\ \\hline\n",
      "0.31 & 12.94 & 13.12 & 13.19 & 13.13 & 13.16  \\\\ \\hline\n",
      "0.32 & 13.29 & 13.22 & 13.35 & 13.09 & 13.19  \\\\ \\hline\n",
      "0.33 & 13.5 & 13.54 & 13.21 & 13.41 & 13.22  \\\\ \\hline\n",
      "\\end{array}\n"
     ]
    }
   ],
   "source": [
    "tex(datos, ['b', 't1', 't2', 't3', 't4', 't5'])"
   ]
  },
  {
   "cell_type": "code",
   "execution_count": 121,
   "metadata": {},
   "outputs": [],
   "source": [
    "for i in range(17, 21):\n",
    "    for j in range(1, 6):\n",
    "        datos['t'+str(j)][i] /= 2"
   ]
  },
  {
   "cell_type": "markdown",
   "metadata": {},
   "source": [
    "media y su error"
   ]
  },
  {
   "cell_type": "code",
   "execution_count": 122,
   "metadata": {},
   "outputs": [
    {
     "name": "stderr",
     "output_type": "stream",
     "text": [
      "C:\\Users\\User\\AppData\\Local\\Temp/ipykernel_3852/704249332.py:11: SettingWithCopyWarning: \n",
      "A value is trying to be set on a copy of a slice from a DataFrame\n",
      "\n",
      "See the caveats in the documentation: https://pandas.pydata.org/pandas-docs/stable/user_guide/indexing.html#returning-a-view-versus-a-copy\n",
      "  datos['t*str'][i], datos['et*str'][i] = a, b\n",
      "C:\\Users\\User\\AppData\\Local\\Temp/ipykernel_3852/704249332.py:12: SettingWithCopyWarning: \n",
      "A value is trying to be set on a copy of a slice from a DataFrame\n",
      "\n",
      "See the caveats in the documentation: https://pandas.pydata.org/pandas-docs/stable/user_guide/indexing.html#returning-a-view-versus-a-copy\n",
      "  datos['t*'][i], datos['et*'][i] = a, b\n"
     ]
    }
   ],
   "source": [
    "datos['t*'] = (datos['t1']+datos['t2']+datos['t3']+datos['t4']+datos['t5'])/50\n",
    "datos['et*'] = (datos['t1']/10 - datos['t*'])**2\n",
    "for i in range(2, 6):\n",
    "    col = 't' + str(i)\n",
    "    datos['et*'] += (datos[col]/10 - datos['t*'])**2\n",
    "datos['et*'] = datos['et*']/25\n",
    "datos['et*'] = datos['et*']**0.5\n",
    "datos[['t*str', 'et*str']] = datos[['t*', 'et*']].astype(str)\n",
    "for i in range(len(datos)):\n",
    "    a, b = rd(datos['t*'][i], datos['et*'][i])\n",
    "    datos['t*str'][i], datos['et*str'][i] = a, b\n",
    "    datos['t*'][i], datos['et*'][i] = a, b"
   ]
  },
  {
   "cell_type": "code",
   "execution_count": 123,
   "metadata": {},
   "outputs": [
    {
     "data": {
      "text/plain": [
       "<ErrorbarContainer object of 3 artists>"
      ]
     },
     "execution_count": 123,
     "metadata": {},
     "output_type": "execute_result"
    },
    {
     "data": {
      "image/png": "[encoded data removed]",
      "text/plain": [
       "<Figure size 432x288 with 1 Axes>"
      ]
     },
     "metadata": {
      "needs_background": "light"
     },
     "output_type": "display_data"
    }
   ],
   "source": [
    "plt.errorbar(datos['b'], datos['t*'], yerr=datos['et*'], ls='none', capsize = 3)"
   ]
  },
  {
   "cell_type": "markdown",
   "metadata": {},
   "source": [
    "$T^2b$ y su error"
   ]
  },
  {
   "cell_type": "code",
   "execution_count": 124,
   "metadata": {},
   "outputs": [
    {
     "name": "stderr",
     "output_type": "stream",
     "text": [
      "C:\\Users\\User\\AppData\\Local\\Temp/ipykernel_3852/3195269699.py:7: SettingWithCopyWarning: \n",
      "A value is trying to be set on a copy of a slice from a DataFrame\n",
      "\n",
      "See the caveats in the documentation: https://pandas.pydata.org/pandas-docs/stable/user_guide/indexing.html#returning-a-view-versus-a-copy\n",
      "  datos['t2bstr'][i], datos['et2bstr'][i] = a, b\n",
      "C:\\Users\\User\\AppData\\Local\\Temp/ipykernel_3852/3195269699.py:8: SettingWithCopyWarning: \n",
      "A value is trying to be set on a copy of a slice from a DataFrame\n",
      "\n",
      "See the caveats in the documentation: https://pandas.pydata.org/pandas-docs/stable/user_guide/indexing.html#returning-a-view-versus-a-copy\n",
      "  datos['t2b'][i], datos['et2b'][i] = a, b\n"
     ]
    }
   ],
   "source": [
    "datos['b2'] = round(datos['b']**2, 4) #ver 0.07**2\n",
    "datos['t2b'] = datos['b']*datos['t*']**2\n",
    "datos['et2b'] = 2*datos['b']*datos['t*']*datos['et*']\n",
    "datos[['t2bstr', 'et2bstr']] = datos[['t*', 'et*']].astype(str)\n",
    "for i in range(len(datos)):\n",
    "    a, b = rd(datos['t2b'][i], datos['et2b'][i])\n",
    "    datos['t2bstr'][i], datos['et2bstr'][i] = a, b\n",
    "    datos['t2b'][i], datos['et2b'][i] = a, b"
   ]
  },
  {
   "cell_type": "markdown",
   "metadata": {},
   "source": [
    "tabla 2"
   ]
  },
  {
   "cell_type": "code",
   "execution_count": 125,
   "metadata": {},
   "outputs": [
    {
     "name": "stdout",
     "output_type": "stream",
     "text": [
      "\\begin{array}{|l|l|l|l|l|} \\hline\n",
      "0.08 & 1.510 & 0.003 & 0.1824 & 0.0007  \\\\ \\hline\n",
      "0.09 & 1.411 & 0.019 & 0.179 & 0.005  \\\\ \\hline\n",
      "0.1 & 1.388 & 0.003 & 0.1927 & 0.0008  \\\\ \\hline\n",
      "0.11 & 1.347 & 0.008 & 0.200 & 0.002  \\\\ \\hline\n",
      "0.12 & 1.327 & 0.004 & 0.2113 & 0.0013  \\\\ \\hline\n",
      "0.13 & 1.303 & 0.003 & 0.2207 & 0.0010  \\\\ \\hline\n",
      "0.14 & 1.282 & 0.002 & 0.2301 & 0.0007  \\\\ \\hline\n",
      "0.15 & 1.265 & 0.005 & 0.2400 & 0.0019  \\\\ \\hline\n",
      "0.16 & 1.254 & 0.003 & 0.2516 & 0.0012  \\\\ \\hline\n",
      "0.17 & 1.246 & 0.002 & 0.2639 & 0.0008  \\\\ \\hline\n",
      "0.18 & 1.2476 & 0.0018 & 0.2802 & 0.0008  \\\\ \\hline\n",
      "0.19 & 1.235 & 0.003 & 0.2898 & 0.0014  \\\\ \\hline\n",
      "0.2 & 1.243 & 0.002 & 0.3090 & 0.0010  \\\\ \\hline\n",
      "0.21 & 1.238 & 0.008 & 0.322 & 0.004  \\\\ \\hline\n",
      "0.22 & 1.250 & 0.004 & 0.344 & 0.002  \\\\ \\hline\n",
      "0.23 & 1.254 & 0.003 & 0.3617 & 0.0017  \\\\ \\hline\n",
      "0.24 & 1.2586 & 0.0009 & 0.3802 & 0.0005  \\\\ \\hline\n",
      "0.25 & 1.261 & 0.003 & 0.3975 & 0.0019  \\\\ \\hline\n",
      "0.26 & 1.2681 & 0.0015 & 0.4181 & 0.0010  \\\\ \\hline\n",
      "0.27 & 1.2773 & 0.0012 & 0.4405 & 0.0008  \\\\ \\hline\n",
      "0.28 & 1.273 & 0.012 & 0.454 & 0.009  \\\\ \\hline\n",
      "0.29 & 1.2988 & 0.0014 & 0.4892 & 0.0011  \\\\ \\hline\n",
      "0.3 & 1.301 & 0.003 & 0.508 & 0.002  \\\\ \\hline\n",
      "0.31 & 1.311 & 0.004 & 0.533 & 0.003  \\\\ \\hline\n",
      "0.32 & 1.323 & 0.004 & 0.560 & 0.003  \\\\ \\hline\n",
      "0.33 & 1.338 & 0.006 & 0.591 & 0.005  \\\\ \\hline\n",
      "\\end{array}\n"
     ]
    }
   ],
   "source": [
    "tex(datos, ['b', 't*str', 'et*str', 't2bstr', 'et2bstr'])"
   ]
  },
  {
   "cell_type": "markdown",
   "metadata": {},
   "source": [
    "regresión"
   ]
  },
  {
   "cell_type": "code",
   "execution_count": 126,
   "metadata": {},
   "outputs": [],
   "source": [
    "def regresion(x, y):\n",
    "    n = len(x)\n",
    "    xc = x.sum()/n\n",
    "    yc = y.sum()/n\n",
    "    sx = math.sqrt(((x**2).sum()/n)-xc**2)\n",
    "    sy = math.sqrt(((y**2).sum()/n)-yc**2)\n",
    "    sxy = ((x*y).sum()/n)-xc*yc\n",
    "    r = sxy/(sx*sy)\n",
    "    m = sxy/(sx**2)\n",
    "    b = yc - m*xc\n",
    "    em = (sy/sx)*math.sqrt((1-r**2)/(n-2))\n",
    "    eb = em*math.sqrt(sx**2 + xc**2)\n",
    "    return(m, b, em, eb, r)"
   ]
  },
  {
   "cell_type": "code",
   "execution_count": 127,
   "metadata": {},
   "outputs": [
    {
     "data": {
      "image/png": "[encoded data removed]",
      "text/plain": [
       "<Figure size 432x288 with 1 Axes>"
      ]
     },
     "metadata": {
      "needs_background": "light"
     },
     "output_type": "display_data"
    }
   ],
   "source": [
    "m, n, em, en, r = regresion(datos['b2'], datos['t2b'])\n",
    "plt.axes().set_aspect(0.2)\n",
    "plt.xlabel('$b^2$ (m$^2$)')\n",
    "plt.ylabel('${T^*}^2b$ (s$^2$m)')\n",
    "plt.plot([0.005, 0.111], [m*0.005+n, m*0.111+n], color='black', linewidth=0.5)\n",
    "plt.errorbar(datos['b2'], datos['t2b'], yerr=datos['et2b'], ls='none', capsize = 2, elinewidth=0.5, ecolor='black', capthick=0.5, marker='o', markersize=1, markeredgecolor='black', markerfacecolor='black')\n",
    "plt.savefig('D:/Latex/UNED/Primer curso/Tecnicas experimentales/pendulo/figures/regresión.png', dpi=300, bbox_inches='tight')"
   ]
  },
  {
   "cell_type": "markdown",
   "metadata": {},
   "source": [
    "g, k y sus errores"
   ]
  },
  {
   "cell_type": "code",
   "execution_count": 128,
   "metadata": {},
   "outputs": [],
   "source": [
    "m, em = rd(m, em)\n",
    "m, em = float(m), float(em)\n",
    "n, en = rd(n, en)\n",
    "n, en = float(n), float(en)"
   ]
  },
  {
   "cell_type": "code",
   "execution_count": 129,
   "metadata": {},
   "outputs": [],
   "source": [
    "g = 4*math.pi**2/m\n",
    "eg = em*4*math.pi**2/m**2"
   ]
  },
  {
   "cell_type": "code",
   "execution_count": 130,
   "metadata": {},
   "outputs": [
    {
     "name": "stdout",
     "output_type": "stream",
     "text": [
      "g: ('9.92', '0.05')\n"
     ]
    }
   ],
   "source": [
    "print('g:', rd(g, eg))\n",
    "g, eg = rd(g, eg)\n",
    "g, eg = float(g), float(eg)"
   ]
  },
  {
   "cell_type": "code",
   "execution_count": 131,
   "metadata": {},
   "outputs": [
    {
     "name": "stdout",
     "output_type": "stream",
     "text": [
      "k ('0.195', '0.004')\n"
     ]
    }
   ],
   "source": [
    "k = math.sqrt(n*g)/(2*math.pi)\n",
    "ek = math.sqrt( (n* eg**2)/g + (g* en**2)/n)/math.pi\n",
    "print('k', rd(k, ek))"
   ]
  },
  {
   "cell_type": "code",
   "execution_count": 132,
   "metadata": {},
   "outputs": [
    {
     "data": {
      "text/html": [
       "<div>\n",
       "<style scoped>\n",
       "    .dataframe tbody tr th:only-of-type {\n",
       "        vertical-align: middle;\n",
       "    }\n",
       "\n",
       "    .dataframe tbody tr th {\n",
       "        vertical-align: top;\n",
       "    }\n",
       "\n",
       "    .dataframe thead th {\n",
       "        text-align: right;\n",
       "    }\n",
       "</style>\n",
       "<table border=\"1\" class=\"dataframe\">\n",
       "  <thead>\n",
       "    <tr style=\"text-align: right;\">\n",
       "      <th></th>\n",
       "      <th>b</th>\n",
       "      <th>t1</th>\n",
       "      <th>t2</th>\n",
       "      <th>t3</th>\n",
       "      <th>t4</th>\n",
       "      <th>t5</th>\n",
       "      <th>t*</th>\n",
       "      <th>et*</th>\n",
       "      <th>t*str</th>\n",
       "      <th>et*str</th>\n",
       "      <th>b2</th>\n",
       "      <th>t2b</th>\n",
       "      <th>et2b</th>\n",
       "      <th>t2bstr</th>\n",
       "      <th>et2bstr</th>\n",
       "    </tr>\n",
       "  </thead>\n",
       "  <tbody>\n",
       "    <tr>\n",
       "      <th>0</th>\n",
       "      <td>0.08</td>\n",
       "      <td>15.070</td>\n",
       "      <td>15.130</td>\n",
       "      <td>15.190</td>\n",
       "      <td>15.130</td>\n",
       "      <td>15.000</td>\n",
       "      <td>1.5100</td>\n",
       "      <td>0.0030</td>\n",
       "      <td>1.510</td>\n",
       "      <td>0.003</td>\n",
       "      <td>0.0064</td>\n",
       "      <td>0.1824</td>\n",
       "      <td>0.0007</td>\n",
       "      <td>0.1824</td>\n",
       "      <td>0.0007</td>\n",
       "    </tr>\n",
       "    <tr>\n",
       "      <th>1</th>\n",
       "      <td>0.09</td>\n",
       "      <td>14.310</td>\n",
       "      <td>13.280</td>\n",
       "      <td>14.310</td>\n",
       "      <td>14.280</td>\n",
       "      <td>14.380</td>\n",
       "      <td>1.4110</td>\n",
       "      <td>0.0190</td>\n",
       "      <td>1.411</td>\n",
       "      <td>0.019</td>\n",
       "      <td>0.0081</td>\n",
       "      <td>0.1790</td>\n",
       "      <td>0.0050</td>\n",
       "      <td>0.179</td>\n",
       "      <td>0.005</td>\n",
       "    </tr>\n",
       "    <tr>\n",
       "      <th>2</th>\n",
       "      <td>0.10</td>\n",
       "      <td>13.910</td>\n",
       "      <td>13.910</td>\n",
       "      <td>13.970</td>\n",
       "      <td>13.820</td>\n",
       "      <td>13.780</td>\n",
       "      <td>1.3880</td>\n",
       "      <td>0.0030</td>\n",
       "      <td>1.388</td>\n",
       "      <td>0.003</td>\n",
       "      <td>0.0100</td>\n",
       "      <td>0.1927</td>\n",
       "      <td>0.0008</td>\n",
       "      <td>0.1927</td>\n",
       "      <td>0.0008</td>\n",
       "    </tr>\n",
       "    <tr>\n",
       "      <th>3</th>\n",
       "      <td>0.11</td>\n",
       "      <td>13.530</td>\n",
       "      <td>13.440</td>\n",
       "      <td>13.250</td>\n",
       "      <td>13.370</td>\n",
       "      <td>13.780</td>\n",
       "      <td>1.3470</td>\n",
       "      <td>0.0080</td>\n",
       "      <td>1.347</td>\n",
       "      <td>0.008</td>\n",
       "      <td>0.0121</td>\n",
       "      <td>0.2000</td>\n",
       "      <td>0.0020</td>\n",
       "      <td>0.200</td>\n",
       "      <td>0.002</td>\n",
       "    </tr>\n",
       "    <tr>\n",
       "      <th>4</th>\n",
       "      <td>0.12</td>\n",
       "      <td>13.250</td>\n",
       "      <td>13.370</td>\n",
       "      <td>13.400</td>\n",
       "      <td>13.160</td>\n",
       "      <td>13.190</td>\n",
       "      <td>1.3270</td>\n",
       "      <td>0.0040</td>\n",
       "      <td>1.327</td>\n",
       "      <td>0.004</td>\n",
       "      <td>0.0144</td>\n",
       "      <td>0.2113</td>\n",
       "      <td>0.0013</td>\n",
       "      <td>0.2113</td>\n",
       "      <td>0.0013</td>\n",
       "    </tr>\n",
       "    <tr>\n",
       "      <th>5</th>\n",
       "      <td>0.13</td>\n",
       "      <td>13.060</td>\n",
       "      <td>12.970</td>\n",
       "      <td>13.030</td>\n",
       "      <td>13.120</td>\n",
       "      <td>12.970</td>\n",
       "      <td>1.3030</td>\n",
       "      <td>0.0030</td>\n",
       "      <td>1.303</td>\n",
       "      <td>0.003</td>\n",
       "      <td>0.0169</td>\n",
       "      <td>0.2207</td>\n",
       "      <td>0.0010</td>\n",
       "      <td>0.2207</td>\n",
       "      <td>0.0010</td>\n",
       "    </tr>\n",
       "    <tr>\n",
       "      <th>6</th>\n",
       "      <td>0.14</td>\n",
       "      <td>12.840</td>\n",
       "      <td>12.810</td>\n",
       "      <td>12.880</td>\n",
       "      <td>12.840</td>\n",
       "      <td>12.720</td>\n",
       "      <td>1.2820</td>\n",
       "      <td>0.0020</td>\n",
       "      <td>1.282</td>\n",
       "      <td>0.002</td>\n",
       "      <td>0.0196</td>\n",
       "      <td>0.2301</td>\n",
       "      <td>0.0007</td>\n",
       "      <td>0.2301</td>\n",
       "      <td>0.0007</td>\n",
       "    </tr>\n",
       "    <tr>\n",
       "      <th>7</th>\n",
       "      <td>0.15</td>\n",
       "      <td>12.560</td>\n",
       "      <td>12.500</td>\n",
       "      <td>12.720</td>\n",
       "      <td>12.690</td>\n",
       "      <td>12.780</td>\n",
       "      <td>1.2650</td>\n",
       "      <td>0.0050</td>\n",
       "      <td>1.265</td>\n",
       "      <td>0.005</td>\n",
       "      <td>0.0225</td>\n",
       "      <td>0.2400</td>\n",
       "      <td>0.0019</td>\n",
       "      <td>0.2400</td>\n",
       "      <td>0.0019</td>\n",
       "    </tr>\n",
       "    <tr>\n",
       "      <th>8</th>\n",
       "      <td>0.16</td>\n",
       "      <td>12.530</td>\n",
       "      <td>12.630</td>\n",
       "      <td>12.590</td>\n",
       "      <td>12.500</td>\n",
       "      <td>12.470</td>\n",
       "      <td>1.2540</td>\n",
       "      <td>0.0030</td>\n",
       "      <td>1.254</td>\n",
       "      <td>0.003</td>\n",
       "      <td>0.0256</td>\n",
       "      <td>0.2516</td>\n",
       "      <td>0.0012</td>\n",
       "      <td>0.2516</td>\n",
       "      <td>0.0012</td>\n",
       "    </tr>\n",
       "    <tr>\n",
       "      <th>9</th>\n",
       "      <td>0.17</td>\n",
       "      <td>12.440</td>\n",
       "      <td>12.410</td>\n",
       "      <td>12.530</td>\n",
       "      <td>12.440</td>\n",
       "      <td>12.500</td>\n",
       "      <td>1.2460</td>\n",
       "      <td>0.0020</td>\n",
       "      <td>1.246</td>\n",
       "      <td>0.002</td>\n",
       "      <td>0.0289</td>\n",
       "      <td>0.2639</td>\n",
       "      <td>0.0008</td>\n",
       "      <td>0.2639</td>\n",
       "      <td>0.0008</td>\n",
       "    </tr>\n",
       "    <tr>\n",
       "      <th>10</th>\n",
       "      <td>0.18</td>\n",
       "      <td>12.440</td>\n",
       "      <td>12.430</td>\n",
       "      <td>12.500</td>\n",
       "      <td>12.540</td>\n",
       "      <td>12.470</td>\n",
       "      <td>1.2476</td>\n",
       "      <td>0.0018</td>\n",
       "      <td>1.2476</td>\n",
       "      <td>0.0018</td>\n",
       "      <td>0.0324</td>\n",
       "      <td>0.2802</td>\n",
       "      <td>0.0008</td>\n",
       "      <td>0.2802</td>\n",
       "      <td>0.0008</td>\n",
       "    </tr>\n",
       "    <tr>\n",
       "      <th>11</th>\n",
       "      <td>0.19</td>\n",
       "      <td>12.340</td>\n",
       "      <td>12.470</td>\n",
       "      <td>12.310</td>\n",
       "      <td>12.350</td>\n",
       "      <td>12.280</td>\n",
       "      <td>1.2350</td>\n",
       "      <td>0.0030</td>\n",
       "      <td>1.235</td>\n",
       "      <td>0.003</td>\n",
       "      <td>0.0361</td>\n",
       "      <td>0.2898</td>\n",
       "      <td>0.0014</td>\n",
       "      <td>0.2898</td>\n",
       "      <td>0.0014</td>\n",
       "    </tr>\n",
       "    <tr>\n",
       "      <th>12</th>\n",
       "      <td>0.20</td>\n",
       "      <td>12.370</td>\n",
       "      <td>12.500</td>\n",
       "      <td>12.370</td>\n",
       "      <td>12.470</td>\n",
       "      <td>12.430</td>\n",
       "      <td>1.2430</td>\n",
       "      <td>0.0020</td>\n",
       "      <td>1.243</td>\n",
       "      <td>0.002</td>\n",
       "      <td>0.0400</td>\n",
       "      <td>0.3090</td>\n",
       "      <td>0.0010</td>\n",
       "      <td>0.3090</td>\n",
       "      <td>0.0010</td>\n",
       "    </tr>\n",
       "    <tr>\n",
       "      <th>13</th>\n",
       "      <td>0.21</td>\n",
       "      <td>12.160</td>\n",
       "      <td>12.400</td>\n",
       "      <td>12.560</td>\n",
       "      <td>12.600</td>\n",
       "      <td>12.190</td>\n",
       "      <td>1.2380</td>\n",
       "      <td>0.0080</td>\n",
       "      <td>1.238</td>\n",
       "      <td>0.008</td>\n",
       "      <td>0.0441</td>\n",
       "      <td>0.3220</td>\n",
       "      <td>0.0040</td>\n",
       "      <td>0.322</td>\n",
       "      <td>0.004</td>\n",
       "    </tr>\n",
       "    <tr>\n",
       "      <th>14</th>\n",
       "      <td>0.22</td>\n",
       "      <td>12.460</td>\n",
       "      <td>12.530</td>\n",
       "      <td>12.620</td>\n",
       "      <td>12.530</td>\n",
       "      <td>12.370</td>\n",
       "      <td>1.2500</td>\n",
       "      <td>0.0040</td>\n",
       "      <td>1.250</td>\n",
       "      <td>0.004</td>\n",
       "      <td>0.0484</td>\n",
       "      <td>0.3440</td>\n",
       "      <td>0.0020</td>\n",
       "      <td>0.344</td>\n",
       "      <td>0.002</td>\n",
       "    </tr>\n",
       "    <tr>\n",
       "      <th>15</th>\n",
       "      <td>0.23</td>\n",
       "      <td>12.590</td>\n",
       "      <td>12.500</td>\n",
       "      <td>12.410</td>\n",
       "      <td>12.620</td>\n",
       "      <td>12.560</td>\n",
       "      <td>1.2540</td>\n",
       "      <td>0.0030</td>\n",
       "      <td>1.254</td>\n",
       "      <td>0.003</td>\n",
       "      <td>0.0529</td>\n",
       "      <td>0.3617</td>\n",
       "      <td>0.0017</td>\n",
       "      <td>0.3617</td>\n",
       "      <td>0.0017</td>\n",
       "    </tr>\n",
       "    <tr>\n",
       "      <th>16</th>\n",
       "      <td>0.24</td>\n",
       "      <td>12.560</td>\n",
       "      <td>12.620</td>\n",
       "      <td>12.570</td>\n",
       "      <td>12.590</td>\n",
       "      <td>12.590</td>\n",
       "      <td>1.2586</td>\n",
       "      <td>0.0009</td>\n",
       "      <td>1.2586</td>\n",
       "      <td>0.0009</td>\n",
       "      <td>0.0576</td>\n",
       "      <td>0.3802</td>\n",
       "      <td>0.0005</td>\n",
       "      <td>0.3802</td>\n",
       "      <td>0.0005</td>\n",
       "    </tr>\n",
       "    <tr>\n",
       "      <th>17</th>\n",
       "      <td>0.25</td>\n",
       "      <td>12.515</td>\n",
       "      <td>12.610</td>\n",
       "      <td>12.655</td>\n",
       "      <td>12.590</td>\n",
       "      <td>12.675</td>\n",
       "      <td>1.2610</td>\n",
       "      <td>0.0030</td>\n",
       "      <td>1.261</td>\n",
       "      <td>0.003</td>\n",
       "      <td>0.0625</td>\n",
       "      <td>0.3975</td>\n",
       "      <td>0.0019</td>\n",
       "      <td>0.3975</td>\n",
       "      <td>0.0019</td>\n",
       "    </tr>\n",
       "    <tr>\n",
       "      <th>18</th>\n",
       "      <td>0.26</td>\n",
       "      <td>12.670</td>\n",
       "      <td>12.685</td>\n",
       "      <td>12.705</td>\n",
       "      <td>12.720</td>\n",
       "      <td>12.625</td>\n",
       "      <td>1.2681</td>\n",
       "      <td>0.0015</td>\n",
       "      <td>1.2681</td>\n",
       "      <td>0.0015</td>\n",
       "      <td>0.0676</td>\n",
       "      <td>0.4181</td>\n",
       "      <td>0.0010</td>\n",
       "      <td>0.4181</td>\n",
       "      <td>0.0010</td>\n",
       "    </tr>\n",
       "    <tr>\n",
       "      <th>19</th>\n",
       "      <td>0.27</td>\n",
       "      <td>12.750</td>\n",
       "      <td>12.735</td>\n",
       "      <td>12.795</td>\n",
       "      <td>12.785</td>\n",
       "      <td>12.800</td>\n",
       "      <td>1.2773</td>\n",
       "      <td>0.0012</td>\n",
       "      <td>1.2773</td>\n",
       "      <td>0.0012</td>\n",
       "      <td>0.0729</td>\n",
       "      <td>0.4405</td>\n",
       "      <td>0.0008</td>\n",
       "      <td>0.4405</td>\n",
       "      <td>0.0008</td>\n",
       "    </tr>\n",
       "    <tr>\n",
       "      <th>20</th>\n",
       "      <td>0.28</td>\n",
       "      <td>12.890</td>\n",
       "      <td>12.190</td>\n",
       "      <td>12.890</td>\n",
       "      <td>12.860</td>\n",
       "      <td>12.795</td>\n",
       "      <td>1.2730</td>\n",
       "      <td>0.0120</td>\n",
       "      <td>1.273</td>\n",
       "      <td>0.012</td>\n",
       "      <td>0.0784</td>\n",
       "      <td>0.4540</td>\n",
       "      <td>0.0090</td>\n",
       "      <td>0.454</td>\n",
       "      <td>0.009</td>\n",
       "    </tr>\n",
       "    <tr>\n",
       "      <th>21</th>\n",
       "      <td>0.29</td>\n",
       "      <td>12.970</td>\n",
       "      <td>12.940</td>\n",
       "      <td>13.030</td>\n",
       "      <td>13.000</td>\n",
       "      <td>13.000</td>\n",
       "      <td>1.2988</td>\n",
       "      <td>0.0014</td>\n",
       "      <td>1.2988</td>\n",
       "      <td>0.0014</td>\n",
       "      <td>0.0841</td>\n",
       "      <td>0.4892</td>\n",
       "      <td>0.0011</td>\n",
       "      <td>0.4892</td>\n",
       "      <td>0.0011</td>\n",
       "    </tr>\n",
       "    <tr>\n",
       "      <th>22</th>\n",
       "      <td>0.30</td>\n",
       "      <td>13.000</td>\n",
       "      <td>13.060</td>\n",
       "      <td>12.910</td>\n",
       "      <td>13.030</td>\n",
       "      <td>13.070</td>\n",
       "      <td>1.3010</td>\n",
       "      <td>0.0030</td>\n",
       "      <td>1.301</td>\n",
       "      <td>0.003</td>\n",
       "      <td>0.0900</td>\n",
       "      <td>0.5080</td>\n",
       "      <td>0.0020</td>\n",
       "      <td>0.508</td>\n",
       "      <td>0.002</td>\n",
       "    </tr>\n",
       "    <tr>\n",
       "      <th>23</th>\n",
       "      <td>0.31</td>\n",
       "      <td>12.940</td>\n",
       "      <td>13.120</td>\n",
       "      <td>13.190</td>\n",
       "      <td>13.130</td>\n",
       "      <td>13.160</td>\n",
       "      <td>1.3110</td>\n",
       "      <td>0.0040</td>\n",
       "      <td>1.311</td>\n",
       "      <td>0.004</td>\n",
       "      <td>0.0961</td>\n",
       "      <td>0.5330</td>\n",
       "      <td>0.0030</td>\n",
       "      <td>0.533</td>\n",
       "      <td>0.003</td>\n",
       "    </tr>\n",
       "    <tr>\n",
       "      <th>24</th>\n",
       "      <td>0.32</td>\n",
       "      <td>13.290</td>\n",
       "      <td>13.220</td>\n",
       "      <td>13.350</td>\n",
       "      <td>13.090</td>\n",
       "      <td>13.190</td>\n",
       "      <td>1.3230</td>\n",
       "      <td>0.0040</td>\n",
       "      <td>1.323</td>\n",
       "      <td>0.004</td>\n",
       "      <td>0.1024</td>\n",
       "      <td>0.5600</td>\n",
       "      <td>0.0030</td>\n",
       "      <td>0.560</td>\n",
       "      <td>0.003</td>\n",
       "    </tr>\n",
       "    <tr>\n",
       "      <th>25</th>\n",
       "      <td>0.33</td>\n",
       "      <td>13.500</td>\n",
       "      <td>13.540</td>\n",
       "      <td>13.210</td>\n",
       "      <td>13.410</td>\n",
       "      <td>13.220</td>\n",
       "      <td>1.3380</td>\n",
       "      <td>0.0060</td>\n",
       "      <td>1.338</td>\n",
       "      <td>0.006</td>\n",
       "      <td>0.1089</td>\n",
       "      <td>0.5910</td>\n",
       "      <td>0.0050</td>\n",
       "      <td>0.591</td>\n",
       "      <td>0.005</td>\n",
       "    </tr>\n",
       "  </tbody>\n",
       "</table>\n",
       "</div>"
      ],
      "text/plain": [
       "       b      t1      t2      t3      t4      t5      t*     et*   t*str  \\\n",
       "0   0.08  15.070  15.130  15.190  15.130  15.000  1.5100  0.0030   1.510   \n",
       "1   0.09  14.310  13.280  14.310  14.280  14.380  1.4110  0.0190   1.411   \n",
       "2   0.10  13.910  13.910  13.970  13.820  13.780  1.3880  0.0030   1.388   \n",
       "3   0.11  13.530  13.440  13.250  13.370  13.780  1.3470  0.0080   1.347   \n",
       "4   0.12  13.250  13.370  13.400  13.160  13.190  1.3270  0.0040   1.327   \n",
       "5   0.13  13.060  12.970  13.030  13.120  12.970  1.3030  0.0030   1.303   \n",
       "6   0.14  12.840  12.810  12.880  12.840  12.720  1.2820  0.0020   1.282   \n",
       "7   0.15  12.560  12.500  12.720  12.690  12.780  1.2650  0.0050   1.265   \n",
       "8   0.16  12.530  12.630  12.590  12.500  12.470  1.2540  0.0030   1.254   \n",
       "9   0.17  12.440  12.410  12.530  12.440  12.500  1.2460  0.0020   1.246   \n",
       "10  0.18  12.440  12.430  12.500  12.540  12.470  1.2476  0.0018  1.2476   \n",
       "11  0.19  12.340  12.470  12.310  12.350  12.280  1.2350  0.0030   1.235   \n",
       "12  0.20  12.370  12.500  12.370  12.470  12.430  1.2430  0.0020   1.243   \n",
       "13  0.21  12.160  12.400  12.560  12.600  12.190  1.2380  0.0080   1.238   \n",
       "14  0.22  12.460  12.530  12.620  12.530  12.370  1.2500  0.0040   1.250   \n",
       "15  0.23  12.590  12.500  12.410  12.620  12.560  1.2540  0.0030   1.254   \n",
       "16  0.24  12.560  12.620  12.570  12.590  12.590  1.2586  0.0009  1.2586   \n",
       "17  0.25  12.515  12.610  12.655  12.590  12.675  1.2610  0.0030   1.261   \n",
       "18  0.26  12.670  12.685  12.705  12.720  12.625  1.2681  0.0015  1.2681   \n",
       "19  0.27  12.750  12.735  12.795  12.785  12.800  1.2773  0.0012  1.2773   \n",
       "20  0.28  12.890  12.190  12.890  12.860  12.795  1.2730  0.0120   1.273   \n",
       "21  0.29  12.970  12.940  13.030  13.000  13.000  1.2988  0.0014  1.2988   \n",
       "22  0.30  13.000  13.060  12.910  13.030  13.070  1.3010  0.0030   1.301   \n",
       "23  0.31  12.940  13.120  13.190  13.130  13.160  1.3110  0.0040   1.311   \n",
       "24  0.32  13.290  13.220  13.350  13.090  13.190  1.3230  0.0040   1.323   \n",
       "25  0.33  13.500  13.540  13.210  13.410  13.220  1.3380  0.0060   1.338   \n",
       "\n",
       "    et*str      b2     t2b    et2b  t2bstr et2bstr  \n",
       "0    0.003  0.0064  0.1824  0.0007  0.1824  0.0007  \n",
       "1    0.019  0.0081  0.1790  0.0050   0.179   0.005  \n",
       "2    0.003  0.0100  0.1927  0.0008  0.1927  0.0008  \n",
       "3    0.008  0.0121  0.2000  0.0020   0.200   0.002  \n",
       "4    0.004  0.0144  0.2113  0.0013  0.2113  0.0013  \n",
       "5    0.003  0.0169  0.2207  0.0010  0.2207  0.0010  \n",
       "6    0.002  0.0196  0.2301  0.0007  0.2301  0.0007  \n",
       "7    0.005  0.0225  0.2400  0.0019  0.2400  0.0019  \n",
       "8    0.003  0.0256  0.2516  0.0012  0.2516  0.0012  \n",
       "9    0.002  0.0289  0.2639  0.0008  0.2639  0.0008  \n",
       "10  0.0018  0.0324  0.2802  0.0008  0.2802  0.0008  \n",
       "11   0.003  0.0361  0.2898  0.0014  0.2898  0.0014  \n",
       "12   0.002  0.0400  0.3090  0.0010  0.3090  0.0010  \n",
       "13   0.008  0.0441  0.3220  0.0040   0.322   0.004  \n",
       "14   0.004  0.0484  0.3440  0.0020   0.344   0.002  \n",
       "15   0.003  0.0529  0.3617  0.0017  0.3617  0.0017  \n",
       "16  0.0009  0.0576  0.3802  0.0005  0.3802  0.0005  \n",
       "17   0.003  0.0625  0.3975  0.0019  0.3975  0.0019  \n",
       "18  0.0015  0.0676  0.4181  0.0010  0.4181  0.0010  \n",
       "19  0.0012  0.0729  0.4405  0.0008  0.4405  0.0008  \n",
       "20   0.012  0.0784  0.4540  0.0090   0.454   0.009  \n",
       "21  0.0014  0.0841  0.4892  0.0011  0.4892  0.0011  \n",
       "22   0.003  0.0900  0.5080  0.0020   0.508   0.002  \n",
       "23   0.004  0.0961  0.5330  0.0030   0.533   0.003  \n",
       "24   0.004  0.1024  0.5600  0.0030   0.560   0.003  \n",
       "25   0.006  0.1089  0.5910  0.0050   0.591   0.005  "
      ]
     },
     "execution_count": 132,
     "metadata": {},
     "output_type": "execute_result"
    }
   ],
   "source": [
    "datos"
   ]
  }
 ],
 "metadata": {
  "interpreter": {
   "hash": "2647ea34e536f865ab67ff9ddee7fd78773d956cec0cab53c79b32cd10da5d83"
  },
  "kernelspec": {
   "display_name": "Python 3.9.7 64-bit",
   "language": "python",
   "name": "python3"
  },
  "language_info": {
   "codemirror_mode": {
    "name": "ipython",
    "version": 3
   },
   "file_extension": ".py",
   "mimetype": "text/x-python",
   "name": "python",
   "nbconvert_exporter": "python",
   "pygments_lexer": "ipython3",
   "version": "3.9.7"
  },
  "orig_nbformat": 4
 },
 "nbformat": 4,
 "nbformat_minor": 2
}
