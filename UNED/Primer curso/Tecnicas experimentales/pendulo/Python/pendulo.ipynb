{
 "cells": [
  {
   "cell_type": "code",
   "execution_count": 111,
   "metadata": {},
   "outputs": [],
   "source": [
    "import pandas as pd\n",
    "import numpy as np\n",
    "import sigfig\n",
    "import matplotlib.pyplot as plt\n",
    "import math\n",
    "plt.rcParams.update(mpl.rcParamsDefault)"
   ]
  },
  {
   "cell_type": "markdown",
   "metadata": {},
   "source": [
    "redondeo"
   ]
  },
  {
   "cell_type": "code",
   "execution_count": 112,
   "metadata": {},
   "outputs": [],
   "source": [
    "def rd(valor, error):\n",
    "    return eval('(\"' + sigfig.round(valor, error, cutoff=19, sep ='\",\"') + '\")')"
   ]
  },
  {
   "cell_type": "code",
   "execution_count": 113,
   "metadata": {},
   "outputs": [
    {
     "data": {
      "text/plain": [
       "('0.08721', '0.00013')"
      ]
     },
     "execution_count": 113,
     "metadata": {},
     "output_type": "execute_result"
    }
   ],
   "source": [
    "rd(0.087214, 0.0001256)"
   ]
  },
  {
   "cell_type": "code",
   "execution_count": 114,
   "metadata": {},
   "outputs": [
    {
     "data": {
      "text/plain": [
       "('1280', '3')"
      ]
     },
     "execution_count": 114,
     "metadata": {},
     "output_type": "execute_result"
    }
   ],
   "source": [
    "rd(1280.23, 3.1456)"
   ]
  },
  {
   "cell_type": "markdown",
   "metadata": {},
   "source": [
    "pasar de pandas a latex"
   ]
  },
  {
   "cell_type": "code",
   "execution_count": 115,
   "metadata": {},
   "outputs": [],
   "source": [
    "def tex(panda, columnas):\n",
    "    l = len(panda)\n",
    "    a = len(columnas)\n",
    "    print('\\\\begin{array}{|' + 'l|'*a + '} \\\\hline')\n",
    "    for fila in range(l):\n",
    "        s = ''\n",
    "        for col in columnas:\n",
    "            s+= str(panda[col][fila]) + ' & '\n",
    "        print(s[0: -2] + ' \\\\\\\\ \\\\hline')\n",
    "    print('\\\\end{array}')"
   ]
  },
  {
   "cell_type": "markdown",
   "metadata": {},
   "source": [
    "importar datos"
   ]
  },
  {
   "cell_type": "code",
   "execution_count": 116,
   "metadata": {},
   "outputs": [],
   "source": [
    "datos = pd.read_csv('D:/Latex/UNED/Primer curso/Tecnicas experimentales/pendulo/Datos/pendulo.csv', names=['b', 't1', 't2', 't3', 't4', 't5'])"
   ]
  },
  {
   "cell_type": "markdown",
   "metadata": {},
   "source": [
    "tabla 1"
   ]
  },
  {
   "cell_type": "code",
   "execution_count": 117,
   "metadata": {},
   "outputs": [
    {
     "name": "stdout",
     "output_type": "stream",
     "text": [
      "\\begin{array}{|l|l|l|l|l|l|} \\hline\n",
      "0.08 & 15.07 & 15.13 & 15.19 & 15.13 & 15.0  \\\\ \\hline\n",
      "0.09 & 14.31 & 13.28 & 14.31 & 14.28 & 14.38  \\\\ \\hline\n",
      "0.1 & 13.91 & 13.91 & 13.97 & 13.82 & 13.78  \\\\ \\hline\n",
      "0.11 & 13.53 & 13.44 & 13.25 & 13.37 & 13.78  \\\\ \\hline\n",
      "0.12 & 13.25 & 13.37 & 13.4 & 13.16 & 13.19  \\\\ \\hline\n",
      "0.13 & 13.06 & 12.97 & 13.03 & 13.12 & 12.97  \\\\ \\hline\n",
      "0.14 & 12.84 & 12.81 & 12.88 & 12.84 & 12.72  \\\\ \\hline\n",
      "0.15 & 12.56 & 12.5 & 12.72 & 12.69 & 12.78  \\\\ \\hline\n",
      "0.16 & 12.53 & 12.63 & 12.59 & 12.5 & 12.47  \\\\ \\hline\n",
      "0.17 & 12.44 & 12.41 & 12.53 & 12.44 & 12.5  \\\\ \\hline\n",
      "0.18 & 12.44 & 12.43 & 12.5 & 12.54 & 12.47  \\\\ \\hline\n",
      "0.19 & 12.34 & 12.47 & 12.31 & 12.35 & 12.28  \\\\ \\hline\n",
      "0.2 & 12.37 & 12.5 & 12.37 & 12.47 & 12.43  \\\\ \\hline\n",
      "0.21 & 12.16 & 12.4 & 12.56 & 12.6 & 12.19  \\\\ \\hline\n",
      "0.22 & 12.46 & 12.53 & 12.62 & 12.53 & 12.37  \\\\ \\hline\n",
      "0.23 & 12.59 & 12.5 & 12.41 & 12.62 & 12.56  \\\\ \\hline\n",
      "0.24 & 12.56 & 12.62 & 12.57 & 12.59 & 12.59  \\\\ \\hline\n",
      "0.25 & 25.03 & 25.22 & 25.31 & 25.18 & 25.35  \\\\ \\hline\n",
      "0.26 & 25.34 & 25.37 & 25.41 & 25.44 & 25.25  \\\\ \\hline\n",
      "0.27 & 25.5 & 25.47 & 25.59 & 25.57 & 25.6  \\\\ \\hline\n",
      "0.28 & 25.78 & 24.38 & 25.78 & 25.72 & 25.59  \\\\ \\hline\n",
      "0.29 & 12.97 & 12.94 & 13.03 & 13.0 & 13.0  \\\\ \\hline\n",
      "0.3 & 13.0 & 13.06 & 12.91 & 13.03 & 13.07  \\\\ \\hline\n",
      "0.31 & 12.94 & 13.12 & 13.19 & 13.13 & 13.16  \\\\ \\hline\n",
      "0.32 & 13.29 & 13.22 & 13.35 & 13.09 & 13.19  \\\\ \\hline\n",
      "0.33 & 13.5 & 13.54 & 13.21 & 13.41 & 13.22  \\\\ \\hline\n",
      "\\end{array}\n"
     ]
    }
   ],
   "source": [
    "tex(datos, ['b', 't1', 't2', 't3', 't4', 't5'])"
   ]
  },
  {
   "cell_type": "code",
   "execution_count": 118,
   "metadata": {},
   "outputs": [],
   "source": [
    "for i in range(17, 21):\n",
    "    for j in range(1, 6):\n",
    "        datos['t'+str(j)][i] /= 2"
   ]
  },
  {
   "cell_type": "markdown",
   "metadata": {},
   "source": [
    "media y su error"
   ]
  },
  {
   "cell_type": "code",
   "execution_count": 119,
   "metadata": {},
   "outputs": [
    {
     "name": "stderr",
     "output_type": "stream",
     "text": [
      "C:\\Users\\User\\AppData\\Local\\Temp/ipykernel_21412/704249332.py:11: SettingWithCopyWarning: \n",
      "A value is trying to be set on a copy of a slice from a DataFrame\n",
      "\n",
      "See the caveats in the documentation: https://pandas.pydata.org/pandas-docs/stable/user_guide/indexing.html#returning-a-view-versus-a-copy\n",
      "  datos['t*str'][i], datos['et*str'][i] = a, b\n",
      "C:\\Users\\User\\AppData\\Local\\Temp/ipykernel_21412/704249332.py:12: SettingWithCopyWarning: \n",
      "A value is trying to be set on a copy of a slice from a DataFrame\n",
      "\n",
      "See the caveats in the documentation: https://pandas.pydata.org/pandas-docs/stable/user_guide/indexing.html#returning-a-view-versus-a-copy\n",
      "  datos['t*'][i], datos['et*'][i] = a, b\n"
     ]
    }
   ],
   "source": [
    "datos['t*'] = (datos['t1']+datos['t2']+datos['t3']+datos['t4']+datos['t5'])/50\n",
    "datos['et*'] = (datos['t1']/10 - datos['t*'])**2\n",
    "for i in range(2, 6):\n",
    "    col = 't' + str(i)\n",
    "    datos['et*'] += (datos[col]/10 - datos['t*'])**2\n",
    "datos['et*'] = datos['et*']/25\n",
    "datos['et*'] = datos['et*']**0.5\n",
    "datos[['t*str', 'et*str']] = datos[['t*', 'et*']].astype(str)\n",
    "for i in range(len(datos)):\n",
    "    a, b = rd(datos['t*'][i], datos['et*'][i])\n",
    "    datos['t*str'][i], datos['et*str'][i] = a, b\n",
    "    datos['t*'][i], datos['et*'][i] = a, b"
   ]
  },
  {
   "cell_type": "markdown",
   "metadata": {},
   "source": [
    "$T^2b$ y su error"
   ]
  },
  {
   "cell_type": "code",
   "execution_count": 120,
   "metadata": {},
   "outputs": [
    {
     "name": "stderr",
     "output_type": "stream",
     "text": [
      "C:\\Users\\User\\AppData\\Local\\Temp/ipykernel_21412/3195269699.py:7: SettingWithCopyWarning: \n",
      "A value is trying to be set on a copy of a slice from a DataFrame\n",
      "\n",
      "See the caveats in the documentation: https://pandas.pydata.org/pandas-docs/stable/user_guide/indexing.html#returning-a-view-versus-a-copy\n",
      "  datos['t2bstr'][i], datos['et2bstr'][i] = a, b\n",
      "C:\\Users\\User\\AppData\\Local\\Temp/ipykernel_21412/3195269699.py:8: SettingWithCopyWarning: \n",
      "A value is trying to be set on a copy of a slice from a DataFrame\n",
      "\n",
      "See the caveats in the documentation: https://pandas.pydata.org/pandas-docs/stable/user_guide/indexing.html#returning-a-view-versus-a-copy\n",
      "  datos['t2b'][i], datos['et2b'][i] = a, b\n"
     ]
    }
   ],
   "source": [
    "datos['b2'] = round(datos['b']**2, 4) #ver 0.07**2\n",
    "datos['t2b'] = datos['b']*datos['t*']**2\n",
    "datos['et2b'] = 2*datos['b']*datos['t*']*datos['et*']\n",
    "datos[['t2bstr', 'et2bstr']] = datos[['t*', 'et*']].astype(str)\n",
    "for i in range(len(datos)):\n",
    "    a, b = rd(datos['t2b'][i], datos['et2b'][i])\n",
    "    datos['t2bstr'][i], datos['et2bstr'][i] = a, b\n",
    "    datos['t2b'][i], datos['et2b'][i] = a, b"
   ]
  },
  {
   "cell_type": "markdown",
   "metadata": {},
   "source": [
    "tabla 2"
   ]
  },
  {
   "cell_type": "code",
   "execution_count": 121,
   "metadata": {},
   "outputs": [
    {
     "name": "stdout",
     "output_type": "stream",
     "text": [
      "\\begin{array}{|l|l|l|l|l|} \\hline\n",
      "0.08 & 1.510 & 0.003 & 0.1824 & 0.0007  \\\\ \\hline\n",
      "0.09 & 1.411 & 0.019 & 0.179 & 0.005  \\\\ \\hline\n",
      "0.1 & 1.388 & 0.003 & 0.1927 & 0.0008  \\\\ \\hline\n",
      "0.11 & 1.347 & 0.008 & 0.200 & 0.002  \\\\ \\hline\n",
      "0.12 & 1.327 & 0.004 & 0.2113 & 0.0013  \\\\ \\hline\n",
      "0.13 & 1.303 & 0.003 & 0.2207 & 0.0010  \\\\ \\hline\n",
      "0.14 & 1.282 & 0.002 & 0.2301 & 0.0007  \\\\ \\hline\n",
      "0.15 & 1.265 & 0.005 & 0.2400 & 0.0019  \\\\ \\hline\n",
      "0.16 & 1.254 & 0.003 & 0.2516 & 0.0012  \\\\ \\hline\n",
      "0.17 & 1.246 & 0.002 & 0.2639 & 0.0008  \\\\ \\hline\n",
      "0.18 & 1.2476 & 0.0018 & 0.2802 & 0.0008  \\\\ \\hline\n",
      "0.19 & 1.235 & 0.003 & 0.2898 & 0.0014  \\\\ \\hline\n",
      "0.2 & 1.243 & 0.002 & 0.3090 & 0.0010  \\\\ \\hline\n",
      "0.21 & 1.238 & 0.008 & 0.322 & 0.004  \\\\ \\hline\n",
      "0.22 & 1.250 & 0.004 & 0.344 & 0.002  \\\\ \\hline\n",
      "0.23 & 1.254 & 0.003 & 0.3617 & 0.0017  \\\\ \\hline\n",
      "0.24 & 1.2586 & 0.0009 & 0.3802 & 0.0005  \\\\ \\hline\n",
      "0.25 & 1.261 & 0.003 & 0.3975 & 0.0019  \\\\ \\hline\n",
      "0.26 & 1.2681 & 0.0015 & 0.4181 & 0.0010  \\\\ \\hline\n",
      "0.27 & 1.2773 & 0.0012 & 0.4405 & 0.0008  \\\\ \\hline\n",
      "0.28 & 1.273 & 0.012 & 0.454 & 0.009  \\\\ \\hline\n",
      "0.29 & 1.2988 & 0.0014 & 0.4892 & 0.0011  \\\\ \\hline\n",
      "0.3 & 1.301 & 0.003 & 0.508 & 0.002  \\\\ \\hline\n",
      "0.31 & 1.311 & 0.004 & 0.533 & 0.003  \\\\ \\hline\n",
      "0.32 & 1.323 & 0.004 & 0.560 & 0.003  \\\\ \\hline\n",
      "0.33 & 1.338 & 0.006 & 0.591 & 0.005  \\\\ \\hline\n",
      "\\end{array}\n"
     ]
    }
   ],
   "source": [
    "tex(datos, ['b', 't*str', 'et*str', 't2bstr', 'et2bstr'])"
   ]
  },
  {
   "cell_type": "markdown",
   "metadata": {},
   "source": [
    "regresión"
   ]
  },
  {
   "cell_type": "code",
   "execution_count": 122,
   "metadata": {},
   "outputs": [],
   "source": [
    "def regresion(x, y):\n",
    "    n = len(x)\n",
    "    xc = x.sum()/n\n",
    "    yc = y.sum()/n\n",
    "    sx = math.sqrt(((x**2).sum()/n)-xc**2)\n",
    "    sy = math.sqrt(((y**2).sum()/n)-yc**2)\n",
    "    sxy = ((x*y).sum()/n)-xc*yc\n",
    "    r = sxy/(sx*sy)\n",
    "    m = sxy/(sx**2)\n",
    "    b = yc - m*xc\n",
    "    em = (sy/sx)*math.sqrt((1-r**2)/(n-2))\n",
    "    eb = em*math.sqrt(sx**2 + xc**2)\n",
    "    return(m, b, em, eb, r)"
   ]
  },
  {
   "cell_type": "code",
   "execution_count": 123,
   "metadata": {},
   "outputs": [
    {
     "data": {
      "image/png": "[encoded data removed]",
      "text/plain": [
       "<Figure size 640x480 with 1 Axes>"
      ]
     },
     "metadata": {},
     "output_type": "display_data"
    }
   ],
   "source": [
    "m, n, em, en, r = regresion(datos['b2'], datos['t2b'])\n",
    "plt.rcParams.update({'font.size': 5})\n",
    "plt.rcParams['axes.linewidth'] = 0.45\n",
    "plt.rcParams['xtick.major.width'] = 0.45\n",
    "plt.rcParams['ytick.major.width'] = 0.45\n",
    "plt.axes().set_aspect(0.7)\n",
    "plt.xlabel('$b^2$ (m$^2$)')\n",
    "plt.ylabel('${T^*}^2b$ (s$^2$m)')\n",
    "plt.plot([0.005, 0.111], [m*0.005+n, m*0.111+n], color='black', linewidth=0.25)\n",
    "plt.errorbar(datos['b2'], datos['t2b'], yerr=datos['et2b'], ls='none', capsize = 1.5, elinewidth=0.25, ecolor='black', capthick=0.25)\n",
    "plt.scatter(datos['b2'], datos['t2b'], s=0.25, c='black')\n",
    "plt.savefig('D:/Latex/UNED/Primer curso/Tecnicas experimentales/pendulo/figures/regresión.png', dpi=1000, bbox_inches='tight')"
   ]
  },
  {
   "cell_type": "markdown",
   "metadata": {},
   "source": [
    "g, k y sus errores"
   ]
  },
  {
   "cell_type": "code",
   "execution_count": 124,
   "metadata": {},
   "outputs": [
    {
     "name": "stdout",
     "output_type": "stream",
     "text": [
      "m: ('3.98', '0.02')\n",
      "n: ('0.1508', '0.0012')\n"
     ]
    }
   ],
   "source": [
    "print('m:', rd(m, em))\n",
    "m, em = rd(m, em)\n",
    "m, em = float(m), float(em)\n",
    "print('n:', rd(n, en))\n",
    "n, en = rd(n, en)\n",
    "n, en = float(n), float(en)"
   ]
  },
  {
   "cell_type": "code",
   "execution_count": 125,
   "metadata": {},
   "outputs": [],
   "source": [
    "g = 4*math.pi**2/m\n",
    "eg = em*4*math.pi**2/m**2"
   ]
  },
  {
   "cell_type": "code",
   "execution_count": 126,
   "metadata": {},
   "outputs": [
    {
     "name": "stdout",
     "output_type": "stream",
     "text": [
      "g: ('9.92', '0.05')\n"
     ]
    }
   ],
   "source": [
    "print('g:', rd(g, eg))\n",
    "g, eg = rd(g, eg)\n",
    "g, eg = float(g), float(eg)"
   ]
  },
  {
   "cell_type": "code",
   "execution_count": 127,
   "metadata": {},
   "outputs": [
    {
     "name": "stdout",
     "output_type": "stream",
     "text": [
      "k ('0.195', '0.004')\n"
     ]
    }
   ],
   "source": [
    "k = math.sqrt(n*g)/(2*math.pi)\n",
    "ek = math.sqrt( (n* eg**2)/g + (g* en**2)/n)/math.pi\n",
    "print('k', rd(k, ek))\n",
    "k, ek = rd(k, ek)\n",
    "k, ek = float(k), float(ek)"
   ]
  },
  {
   "cell_type": "markdown",
   "metadata": {},
   "source": [
    "conclusiones"
   ]
  },
  {
   "cell_type": "code",
   "execution_count": 131,
   "metadata": {},
   "outputs": [
    {
     "data": {
      "image/png": "[encoded data removed]",
      "text/plain": [
       "<Figure size 640x480 with 1 Axes>"
      ]
     },
     "metadata": {},
     "output_type": "display_data"
    }
   ],
   "source": [
    "plt.rcParams.update({'font.size': 7})\n",
    "plt.rcParams['axes.linewidth'] = .7\n",
    "plt.rcParams['xtick.major.width'] = .7\n",
    "plt.rcParams['ytick.major.width'] = .7\n",
    "plt.axes().set_aspect(1.5)\n",
    "plt.xlabel('$b$ (m)')\n",
    "plt.ylabel('$T^*$(m)')\n",
    "# x = []\n",
    "# y = []\n",
    "# for i in np.arange(0.08, 0.34, 0.01):\n",
    "#     x.append(i)\n",
    "#     y.append(2*math.pi*math.sqrt( (k**2 + i**2)/(g*i) ))\n",
    "# plt.plot(x,y, color='black', linewidth=0.5)\n",
    "plt.errorbar(datos['b'], datos['t*'], yerr=datos['et*'], ls='none', capsize = 2, elinewidth=0.5, ecolor='black', capthick=0.5)\n",
    "plt.scatter(datos['b'], datos['t*'], s=1, c='black')\n",
    "plt.savefig('D:/Latex/UNED/Primer curso/Tecnicas experimentales/pendulo/figures/mínimo.png', dpi=1000, bbox_inches='tight')"
   ]
  },
  {
   "cell_type": "code",
   "execution_count": 129,
   "metadata": {},
   "outputs": [
    {
     "data": {
      "text/plain": [
       "('0.1905', '0.0003')"
      ]
     },
     "execution_count": 129,
     "metadata": {},
     "output_type": "execute_result"
    }
   ],
   "source": [
    "rd(0.66/math.sqrt(12), 0.001/math.sqrt(12))"
   ]
  }
 ],
 "metadata": {
  "interpreter": {
   "hash": "2647ea34e536f865ab67ff9ddee7fd78773d956cec0cab53c79b32cd10da5d83"
  },
  "kernelspec": {
   "display_name": "Python 3.9.7 64-bit",
   "language": "python",
   "name": "python3"
  },
  "language_info": {
   "codemirror_mode": {
    "name": "ipython",
    "version": 3
   },
   "file_extension": ".py",
   "mimetype": "text/x-python",
   "name": "python",
   "nbconvert_exporter": "python",
   "pygments_lexer": "ipython3",
   "version": "3.9.7"
  },
  "orig_nbformat": 4
 },
 "nbformat": 4,
 "nbformat_minor": 2
}
