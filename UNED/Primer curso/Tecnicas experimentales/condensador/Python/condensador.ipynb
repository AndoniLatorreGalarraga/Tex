{
 "cells": [
  {
   "cell_type": "code",
   "execution_count": 1,
   "metadata": {},
   "outputs": [],
   "source": [
    "import pandas as pd\n",
    "import numpy as np\n",
    "import sigfig\n",
    "import matplotlib as mpl\n",
    "import matplotlib.pyplot as plt\n",
    "import math\n",
    "plt.rcParams.update(mpl.rcParamsDefault)\n",
    "\n",
    "def rd(valor, error):\n",
    "    return eval('(\"' + sigfig.round(valor, error, cutoff=19, sep ='\",\"') + '\")')\n",
    "\n",
    "\n",
    "def tex(panda, columnas):\n",
    "    l = len(panda)\n",
    "    a = len(columnas)\n",
    "    print('\\\\begin{array}{|' + 'l|'*a + '} \\\\hline')\n",
    "    for fila in range(l):\n",
    "        s = ''\n",
    "        for col in columnas:\n",
    "            s+= str(panda[col][fila]) + ' & '\n",
    "        print(s[0: -2] + ' \\\\\\\\ \\\\hline')\n",
    "    print('\\\\end{array}')\n",
    "\n",
    "def regresion(x, y):\n",
    "    n = len(x)\n",
    "    xc = x.sum()/n\n",
    "    yc = y.sum()/n\n",
    "    sx = math.sqrt(((x**2).sum()/n)-xc**2)\n",
    "    sy = math.sqrt(((y**2).sum()/n)-yc**2)\n",
    "    sxy = ((x*y).sum()/n)-xc*yc\n",
    "    r = sxy/(sx*sy)\n",
    "    m = sxy/(sx**2)\n",
    "    b = yc - m*xc\n",
    "    em = (sy/sx)*math.sqrt((1-r**2)/(n-2))\n",
    "    eb = em*math.sqrt(sx**2 + xc**2)\n",
    "    return(m, b, em, eb, r)"
   ]
  },
  {
   "cell_type": "code",
   "execution_count": 9,
   "metadata": {},
   "outputs": [],
   "source": [
    "datos = pd.read_csv('D:/Latex/UNED/Primer curso/Tecnicas experimentales/condensador/Datos/condensador.csv', names=['t', 'v'])"
   ]
  },
  {
   "cell_type": "code",
   "execution_count": 10,
   "metadata": {},
   "outputs": [
    {
     "name": "stdout",
     "output_type": "stream",
     "text": [
      "\\begin{array}{|l|l|} \\hline\n",
      "2.0 & 7.98  \\\\ \\hline\n",
      "3.82 & 7.22  \\\\ \\hline\n",
      "5.81 & 6.39  \\\\ \\hline\n",
      "6.06 & 6.27  \\\\ \\hline\n",
      "8.16 & 5.53  \\\\ \\hline\n",
      "10.06 & 5.02  \\\\ \\hline\n",
      "12.12 & 4.46  \\\\ \\hline\n",
      "14.29 & 4.02  \\\\ \\hline\n",
      "15.28 & 3.7  \\\\ \\hline\n",
      "17.01 & 3.23  \\\\ \\hline\n",
      "18.72 & 3.05  \\\\ \\hline\n",
      "20.09 & 2.88  \\\\ \\hline\n",
      "22.09 & 2.61  \\\\ \\hline\n",
      "24.19 & 2.26  \\\\ \\hline\n",
      "26.37 & 2.03  \\\\ \\hline\n",
      "\\end{array}\n"
     ]
    }
   ],
   "source": [
    "tex(datos, ['t','v'])"
   ]
  },
  {
   "cell_type": "code",
   "execution_count": 13,
   "metadata": {},
   "outputs": [],
   "source": [
    "datos['lnv'] = np.log(datos['v'])\n",
    "datos['elnv'] = 0.001/datos['v']\n",
    "for fila in range(len(datos)):\n",
    "    a, b = datos['lnv'][fila], datos['elnv'][fila]\n",
    "    a, b = rd(a, b)\n",
    "    a, b = float(a), float(b)\n",
    "    datos['lnv'][fila], datos['elnv'][fila] = a, b"
   ]
  },
  {
   "cell_type": "code",
   "execution_count": 24,
   "metadata": {},
   "outputs": [
    {
     "name": "stdout",
     "output_type": "stream",
     "text": [
      "\\begin{array}{|l|l|l|} \\hline\n",
      "2.0 & 2.07694 & 0.00013  \\\\ \\hline\n",
      "3.82 & 1.97685 & 0.00014  \\\\ \\hline\n",
      "5.81 & 1.85473 & 0.00016  \\\\ \\hline\n",
      "6.06 & 1.83578 & 0.00016  \\\\ \\hline\n",
      "8.16 & 1.71019 & 0.00018  \\\\ \\hline\n",
      "10.06 & 1.6134 & 0.0002  \\\\ \\hline\n",
      "12.12 & 1.4951 & 0.0002  \\\\ \\hline\n",
      "14.29 & 1.3913 & 0.0002  \\\\ \\hline\n",
      "15.28 & 1.3083 & 0.0003  \\\\ \\hline\n",
      "17.01 & 1.1725 & 0.0003  \\\\ \\hline\n",
      "18.72 & 1.1151 & 0.0003  \\\\ \\hline\n",
      "20.09 & 1.0578 & 0.0003  \\\\ \\hline\n",
      "22.09 & 0.9594 & 0.0004  \\\\ \\hline\n",
      "24.19 & 0.8154 & 0.0004  \\\\ \\hline\n",
      "26.37 & 0.708 & 0.0005  \\\\ \\hline\n",
      "\\end{array}\n"
     ]
    }
   ],
   "source": [
    "tex(datos, ['t','lnv', 'elnv'])"
   ]
  },
  {
   "cell_type": "code",
   "execution_count": 23,
   "metadata": {},
   "outputs": [
    {
     "data": {
      "image/png": "[encoded data removed]",
      "text/plain": [
       "<Figure size 640x480 with 1 Axes>"
      ]
     },
     "metadata": {},
     "output_type": "display_data"
    }
   ],
   "source": [
    "m, n, em, en, r = regresion(datos['t'], datos['lnv'])\n",
    "plt.rcParams.update({'font.size': 9})\n",
    "plt.rcParams['axes.linewidth'] = 0.7\n",
    "plt.rcParams['xtick.major.width'] = 0.7\n",
    "plt.rcParams['ytick.major.width'] = 0.7\n",
    "plt.ylabel('ln$V$(lnV)')\n",
    "plt.xlabel('$t$(s)')\n",
    "mm = min(datos['t'])\n",
    "MM = max(datos['t'])\n",
    "plt.plot([mm, MM], [m*mm+n, m*MM+n], color='black', linewidth=0.7)\n",
    "plt.scatter(datos['t'], datos['lnv'], s=4, c='black', marker='8')\n",
    "plt.savefig('D:/Latex/UNED/Primer curso/Tecnicas experimentales/condensador/figures/regresión.png', dpi=1000, bbox_inches='tight')\n",
    "plt.show()"
   ]
  },
  {
   "cell_type": "code",
   "execution_count": 25,
   "metadata": {},
   "outputs": [
    {
     "data": {
      "text/plain": [
       "('-0.0563', '0.0006')"
      ]
     },
     "execution_count": 25,
     "metadata": {},
     "output_type": "execute_result"
    }
   ],
   "source": [
    "rd(m,em)"
   ]
  },
  {
   "cell_type": "code",
   "execution_count": 26,
   "metadata": {},
   "outputs": [
    {
     "data": {
      "text/plain": [
       "('2.180', '0.010')"
      ]
     },
     "execution_count": 26,
     "metadata": {},
     "output_type": "execute_result"
    }
   ],
   "source": [
    "rd(n,en)"
   ]
  },
  {
   "cell_type": "code",
   "execution_count": 28,
   "metadata": {},
   "outputs": [
    {
     "name": "stderr",
     "output_type": "stream",
     "text": [
      "C:\\Users\\User\\AppData\\Local\\Programs\\Python\\Python39\\lib\\site-packages\\sigfig\\sigfig.py:586: UserWarning: warning: 2 significant figures requested from number with only 1 significant figures\n",
      "  warn(\"warning: %d significant figures requested from number with only %d significant figures\" % (given['sigfigs'], len(num.map)))\n"
     ]
    }
   ],
   "source": [
    "m, em = rd(m,em)\n",
    "m, em = float(m), float(em)\n",
    "n, en = rd(n,en)\n",
    "n, en = float(n), float(en)"
   ]
  },
  {
   "cell_type": "code",
   "execution_count": 33,
   "metadata": {},
   "outputs": [
    {
     "data": {
      "text/plain": [
       "('17.76', '0.19')"
      ]
     },
     "execution_count": 33,
     "metadata": {},
     "output_type": "execute_result"
    }
   ],
   "source": [
    "rd(-1/m, em/m**2)"
   ]
  },
  {
   "cell_type": "code",
   "execution_count": 35,
   "metadata": {},
   "outputs": [
    {
     "data": {
      "text/plain": [
       "('8.85', '0.09')"
      ]
     },
     "execution_count": 35,
     "metadata": {},
     "output_type": "execute_result"
    }
   ],
   "source": [
    "rd(np.exp(n), np.exp(n)*en)"
   ]
  },
  {
   "cell_type": "code",
   "execution_count": 39,
   "metadata": {},
   "outputs": [
    {
     "name": "stdout",
     "output_type": "stream",
     "text": [
      "\\begin{array}{|l|l|l|l|} \\hline\n",
      "2.8 & 8.9 & 2.18605 & 0.00011  \\\\ \\hline\n",
      "59.88 & 6.65 & 1.89462 & 0.00015  \\\\ \\hline\n",
      "8.48 & 8.6 & 2.15176 & 0.00012  \\\\ \\hline\n",
      "56.62 & 6.71 & 1.9036 & 0.00015  \\\\ \\hline\n",
      "11.05 & 8.47 & 2.13653 & 0.00012  \\\\ \\hline\n",
      "32.64 & 7.54 & 2.02022 & 0.00013  \\\\ \\hline\n",
      "49.24 & 6.95 & 1.93874 & 0.00014  \\\\ \\hline\n",
      "6.33 & 8.62 & 2.15409 & 0.00012  \\\\ \\hline\n",
      "15.31 & 8.24 & 2.109 & 0.00012  \\\\ \\hline\n",
      "21.27 & 8.04 & 2.08443 & 0.00012  \\\\ \\hline\n",
      "39.52 & 7.3 & 1.98787 & 0.00014  \\\\ \\hline\n",
      "24.84 & 7.88 & 2.06433 & 0.00013  \\\\ \\hline\n",
      "37.87 & 7.39 & 2.00013 & 0.00014  \\\\ \\hline\n",
      "27.33 & 7.8 & 2.05412 & 0.00013  \\\\ \\hline\n",
      "45.21 & 7.13 & 1.96431 & 0.00014  \\\\ \\hline\n",
      "17.27 & 8.19 & 2.10291 & 0.00012  \\\\ \\hline\n",
      "30.43 & 7.65 & 2.03471 & 0.00013  \\\\ \\hline\n",
      "55.08 & 6.74 & 1.90806 & 0.00015  \\\\ \\hline\n",
      "35.12 & 7.49 & 2.01357 & 0.00013  \\\\ \\hline\n",
      "41.86 & 7.26 & 1.98238 & 0.00014  \\\\ \\hline\n",
      "\\end{array}\n"
     ]
    },
    {
     "data": {
      "image/png": "[encoded data removed]",
      "text/plain": [
       "<Figure size 640x480 with 1 Axes>"
      ]
     },
     "metadata": {},
     "output_type": "display_data"
    }
   ],
   "source": [
    "datos = pd.read_csv('D:/Latex/UNED/Primer curso/Tecnicas experimentales/condensador/Datos/condensador_sin.csv', names=['t', 'v'])\n",
    "datos['lnv'] = np.log(datos['v'])\n",
    "datos['elnv'] = 0.001/datos['v']\n",
    "for fila in range(len(datos)):\n",
    "    a, b = datos['lnv'][fila], datos['elnv'][fila]\n",
    "    a, b = rd(a, b)\n",
    "    a, b = float(a), float(b)\n",
    "    datos['lnv'][fila], datos['elnv'][fila] = a, b\n",
    "tex(datos, ['t','v', 'lnv', 'elnv'])\n",
    "m, n, em, en, r = regresion(datos['t'], datos['lnv'])\n",
    "plt.rcParams.update({'font.size': 9})\n",
    "plt.rcParams['axes.linewidth'] = 0.7\n",
    "plt.rcParams['xtick.major.width'] = 0.7\n",
    "plt.rcParams['ytick.major.width'] = 0.7\n",
    "plt.ylabel('ln$V$(lnV)')\n",
    "plt.xlabel('$t$(s)')\n",
    "mm = min(datos['t'])\n",
    "MM = max(datos['t'])\n",
    "plt.plot([mm, MM], [m*mm+n, m*MM+n], color='black', linewidth=0.7)\n",
    "plt.scatter(datos['t'], datos['lnv'], s=4, c='black', marker='8')\n",
    "plt.savefig('D:/Latex/UNED/Primer curso/Tecnicas experimentales/condensador/figures/regresión_sin.png', dpi=1000, bbox_inches='tight')\n",
    "plt.show()\n",
    "m, em = rd(m,em)\n",
    "m, em = float(m), float(em)\n",
    "n, en = rd(n,en)\n",
    "n, en = float(n), float(en)"
   ]
  },
  {
   "cell_type": "code",
   "execution_count": 40,
   "metadata": {},
   "outputs": [
    {
     "data": {
      "text/plain": [
       "('196.9', '1.9')"
      ]
     },
     "execution_count": 40,
     "metadata": {},
     "output_type": "execute_result"
    }
   ],
   "source": [
    "rd(-1/m, em/m**2)"
   ]
  },
  {
   "cell_type": "code",
   "execution_count": 41,
   "metadata": {},
   "outputs": [
    {
     "data": {
      "text/plain": [
       "('8.950', '0.016')"
      ]
     },
     "execution_count": 41,
     "metadata": {},
     "output_type": "execute_result"
    }
   ],
   "source": [
    "rd(np.exp(n), np.exp(n)*en)"
   ]
  }
 ],
 "metadata": {
  "interpreter": {
   "hash": "2647ea34e536f865ab67ff9ddee7fd78773d956cec0cab53c79b32cd10da5d83"
  },
  "kernelspec": {
   "display_name": "Python 3.9.7 64-bit",
   "language": "python",
   "name": "python3"
  },
  "language_info": {
   "codemirror_mode": {
    "name": "ipython",
    "version": 3
   },
   "file_extension": ".py",
   "mimetype": "text/x-python",
   "name": "python",
   "nbconvert_exporter": "python",
   "pygments_lexer": "ipython3",
   "version": "3.9.7"
  },
  "orig_nbformat": 4
 },
 "nbformat": 4,
 "nbformat_minor": 2
}
